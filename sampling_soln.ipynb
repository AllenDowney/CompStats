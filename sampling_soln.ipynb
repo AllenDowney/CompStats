{
 "metadata": {
  "name": "",
  "signature": "sha256:75adde131fb9f81305cbf203f5e87d9b052d4a75260b1f19ed88fe489cfa1e58"
 },
 "nbformat": 3,
 "nbformat_minor": 0,
 "worksheets": [
  {
   "cells": [
    {
     "cell_type": "markdown",
     "metadata": {},
     "source": [
      "Random Sampling (solution)\n",
      "==========================\n",
      "\n",
      "Copyright 2015 Allen Downey\n",
      "\n",
      "License: [Creative Commons Attribution 4.0 International](http://creativecommons.org/licenses/by/4.0/)"
     ]
    },
    {
     "cell_type": "code",
     "collapsed": false,
     "input": [
      "from __future__ import print_function, division\n",
      "\n",
      "import numpy\n",
      "import scipy.stats\n",
      "\n",
      "import matplotlib.pyplot as pyplot\n",
      "\n",
      "from IPython.html.widgets import interact, fixed\n",
      "from IPython.html import widgets\n",
      "\n",
      "# seed the random number generator so we all get the same results\n",
      "numpy.random.seed(18)\n",
      "\n",
      "# some nicer colors from http://colorbrewer2.org/\n",
      "COLOR1 = '#7fc97f'\n",
      "COLOR2 = '#beaed4'\n",
      "COLOR3 = '#fdc086'\n",
      "COLOR4 = '#ffff99'\n",
      "COLOR5 = '#386cb0'\n",
      "\n",
      "%matplotlib inline"
     ],
     "language": "python",
     "metadata": {},
     "outputs": [],
     "prompt_number": 1
    },
    {
     "cell_type": "markdown",
     "metadata": {},
     "source": [
      "Part One\n",
      "========\n",
      "\n",
      "Suppose we want to estimate the average weight of men and women in the U.S.\n",
      "\n",
      "And we want to quantify the uncertainty of the estimate.\n",
      "\n",
      "One approach is to simulate many experiments and see how much the results vary from one experiment to the next.\n",
      "\n",
      "I'll start with the unrealistic assumption that we know the actual distribution of weights in the population.  Then I'll show how to solve the problem without that assumption.\n",
      "\n",
      "Based on data from the [BRFSS](http://www.cdc.gov/brfss/), I found that the distribution of weight in kg for women in the U.S. is well modeled by a lognormal distribution with the following parameters:"
     ]
    },
    {
     "cell_type": "code",
     "collapsed": false,
     "input": [
      "weight = scipy.stats.lognorm(0.23, 0, 70.8)\n",
      "weight.mean(), weight.std()"
     ],
     "language": "python",
     "metadata": {},
     "outputs": [
      {
       "metadata": {},
       "output_type": "pyout",
       "prompt_number": 2,
       "text": [
        "(72.697645732966876, 16.944043048498038)"
       ]
      }
     ],
     "prompt_number": 2
    },
    {
     "cell_type": "markdown",
     "metadata": {},
     "source": [
      "Here's what that distribution looks like:"
     ]
    },
    {
     "cell_type": "code",
     "collapsed": false,
     "input": [
      "xs = numpy.linspace(20, 160, 100)\n",
      "ys = weight.pdf(xs)\n",
      "pyplot.plot(xs, ys, linewidth=4, color=COLOR1)\n",
      "pyplot.xlabel('weight (kg)')\n",
      "pyplot.ylabel('PDF')\n",
      "None"
     ],
     "language": "python",
     "metadata": {},
     "outputs": [
      {
       "metadata": {},
       "output_type": "display_data",
       "png": "[encoded data removed]",
       "text": [
        "<matplotlib.figure.Figure at 0x7f294d9ead90>"
       ]
      }
     ],
     "prompt_number": 3
    },
    {
     "cell_type": "markdown",
     "metadata": {},
     "source": [
      "`make_sample` draws a random sample from this distribution.  The result is a NumPy array."
     ]
    },
    {
     "cell_type": "code",
     "collapsed": false,
     "input": [
      "def make_sample(n=100):\n",
      "    sample = weight.rvs(n)\n",
      "    return sample"
     ],
     "language": "python",
     "metadata": {},
     "outputs": [],
     "prompt_number": 4
    },
    {
     "cell_type": "markdown",
     "metadata": {},
     "source": [
      "Here's an example with `n=100`.  The mean and std of the sample are close to the mean and std of the population, but not exact."
     ]
    },
    {
     "cell_type": "code",
     "collapsed": false,
     "input": [
      "sample = make_sample(n=100)\n",
      "sample.mean(), sample.std()"
     ],
     "language": "python",
     "metadata": {},
     "outputs": [
      {
       "metadata": {},
       "output_type": "pyout",
       "prompt_number": 5,
       "text": [
        "(76.308293640077437, 19.995558735561865)"
       ]
      }
     ],
     "prompt_number": 5
    },
    {
     "cell_type": "markdown",
     "metadata": {},
     "source": [
      "We want to estimate the average weight in the population, so the \"sample statistic\" we'll use is the mean:"
     ]
    },
    {
     "cell_type": "code",
     "collapsed": false,
     "input": [
      "def sample_stat(sample):\n",
      "    return sample.mean()"
     ],
     "language": "python",
     "metadata": {},
     "outputs": [],
     "prompt_number": 6
    },
    {
     "cell_type": "markdown",
     "metadata": {},
     "source": [
      "One iteration of \"the experiment\" is to collect a sample of 100 women and compute their average weight.\n",
      "\n",
      "We can simulate running this experiment many times, and collect a list of sample statistics.  The result is a NumPy array."
     ]
    },
    {
     "cell_type": "code",
     "collapsed": false,
     "input": [
      "def compute_sample_statistics(n=100, iters=1000):\n",
      "    stats = [sample_stat(make_sample(n)) for i in range(iters)]\n",
      "    return numpy.array(stats)"
     ],
     "language": "python",
     "metadata": {},
     "outputs": [],
     "prompt_number": 7
    },
    {
     "cell_type": "markdown",
     "metadata": {},
     "source": [
      "The next line runs the simulation 1000 times and puts the results in\n",
      "`sample_means`:"
     ]
    },
    {
     "cell_type": "code",
     "collapsed": false,
     "input": [
      "sample_means = compute_sample_statistics(n=100, iters=1000)"
     ],
     "language": "python",
     "metadata": {},
     "outputs": [],
     "prompt_number": 8
    },
    {
     "cell_type": "markdown",
     "metadata": {},
     "source": [
      "Let's look at the distribution of the sample means.  This distribution shows how much the results vary from one experiment to the next.\n",
      "\n",
      "Remember that this distribution is not the same as the distribution of weight in the population.  This is the distribution of results across repeated imaginary experiments."
     ]
    },
    {
     "cell_type": "code",
     "collapsed": false,
     "input": [
      "pyplot.hist(sample_means, color=COLOR5)\n",
      "pyplot.xlabel('sample mean (n=100)')\n",
      "pyplot.ylabel('count')\n",
      "None"
     ],
     "language": "python",
     "metadata": {},
     "outputs": [
      {
       "metadata": {},
       "output_type": "display_data",
       "png": "[encoded data removed]",
       "text": [
        "<matplotlib.figure.Figure at 0x7f294d915710>"
       ]
      }
     ],
     "prompt_number": 9
    },
    {
     "cell_type": "markdown",
     "metadata": {},
     "source": [
      "The mean of the sample means is close to the actual population mean, which is nice, but not actually the important part."
     ]
    },
    {
     "cell_type": "code",
     "collapsed": false,
     "input": [
      "sample_means.mean()"
     ],
     "language": "python",
     "metadata": {},
     "outputs": [
      {
       "metadata": {},
       "output_type": "pyout",
       "prompt_number": 10,
       "text": [
        "72.652052080657413"
       ]
      }
     ],
     "prompt_number": 10
    },
    {
     "cell_type": "markdown",
     "metadata": {},
     "source": [
      "The standard deviation of the sample means quantifies the variability from one experiment to the next, and reflects the precision of the estimate.\n",
      "\n",
      "This quantity is called the \"standard error\"."
     ]
    },
    {
     "cell_type": "code",
     "collapsed": false,
     "input": [
      "std_err = sample_means.std()\n",
      "std_err"
     ],
     "language": "python",
     "metadata": {},
     "outputs": [
      {
       "metadata": {},
       "output_type": "pyout",
       "prompt_number": 11,
       "text": [
        "1.6355262477017491"
       ]
      }
     ],
     "prompt_number": 11
    },
    {
     "cell_type": "markdown",
     "metadata": {},
     "source": [
      "We can also use the distribution of sample means to compute a \"90% confidence interval\", which contains 90% of the experimental results:"
     ]
    },
    {
     "cell_type": "code",
     "collapsed": false,
     "input": [
      "conf_int = numpy.percentile(sample_means, [5, 95])\n",
      "conf_int"
     ],
     "language": "python",
     "metadata": {},
     "outputs": [
      {
       "metadata": {},
       "output_type": "pyout",
       "prompt_number": 12,
       "text": [
        "array([ 69.92149384,  75.40866638])"
       ]
      }
     ],
     "prompt_number": 12
    },
    {
     "cell_type": "markdown",
     "metadata": {},
     "source": [
      "The following function takes an array of sample statistics and prints the SE and CI:"
     ]
    },
    {
     "cell_type": "code",
     "collapsed": false,
     "input": [
      "def summarize_sampling_distribution(sample_stats):\n",
      "    print('SE', sample_stats.std())\n",
      "    print('90% CI', numpy.percentile(sample_stats, [5, 95]))"
     ],
     "language": "python",
     "metadata": {},
     "outputs": [],
     "prompt_number": 13
    },
    {
     "cell_type": "markdown",
     "metadata": {},
     "source": [
      "And here's what that looks like:"
     ]
    },
    {
     "cell_type": "code",
     "collapsed": false,
     "input": [
      "summarize_sampling_distribution(sample_means)"
     ],
     "language": "python",
     "metadata": {},
     "outputs": [
      {
       "output_type": "stream",
       "stream": "stdout",
       "text": [
        "SE 1.6355262477\n",
        "90% CI [ 69.92149384  75.40866638]\n"
       ]
      }
     ],
     "prompt_number": 14
    },
    {
     "cell_type": "markdown",
     "metadata": {},
     "source": [
      "Now we'd like to see what happens as we vary the sample size, `n`.  The following function takes `n`, runs 1000 simulated experiments, and summarizes the results."
     ]
    },
    {
     "cell_type": "code",
     "collapsed": false,
     "input": [
      "def plot_sample_stats(n, xlim=None):\n",
      "    sample_stats = compute_sample_statistics(n, iters=1000)\n",
      "    summarize_sampling_distribution(sample_stats)\n",
      "    pyplot.hist(sample_stats, color=COLOR2)\n",
      "    pyplot.xlabel('sample statistic')\n",
      "    pyplot.xlim(xlim)"
     ],
     "language": "python",
     "metadata": {},
     "outputs": [],
     "prompt_number": 15
    },
    {
     "cell_type": "markdown",
     "metadata": {},
     "source": [
      "Here's a test run with `n=100`:"
     ]
    },
    {
     "cell_type": "code",
     "collapsed": false,
     "input": [
      "plot_sample_stats(100)"
     ],
     "language": "python",
     "metadata": {},
     "outputs": [
      {
       "output_type": "stream",
       "stream": "stdout",
       "text": [
        "SE 1.71202891175\n",
        "90% CI [ 69.96057332  75.58582662]\n"
       ]
      },
      {
       "metadata": {},
       "output_type": "display_data",
       "png": "[encoded data removed]",
       "text": [
        "<matplotlib.figure.Figure at 0x7f294d9eaf90>"
       ]
      }
     ],
     "prompt_number": 16
    },
    {
     "cell_type": "markdown",
     "metadata": {},
     "source": [
      "Now we can use `interact` to run `plot_sample_stats` with different values of `n`.  Note: `xlim` sets the limits of the x-axis so the figure doesn't get rescaled as we vary `n`."
     ]
    },
    {
     "cell_type": "code",
     "collapsed": false,
     "input": [
      "def sample_stat(sample):\n",
      "    return sample.mean()\n",
      "\n",
      "slider = widgets.IntSliderWidget(min=10, max=1000, value=100)\n",
      "interact(plot_sample_stats, n=slider, xlim=fixed([55, 95]))\n",
      "None"
     ],
     "language": "python",
     "metadata": {},
     "outputs": [
      {
       "output_type": "stream",
       "stream": "stdout",
       "text": [
        "SE 1.71314776815\n",
        "90% CI [ 69.99274896  75.65943185]\n"
       ]
      },
      {
       "metadata": {},
       "output_type": "display_data",
       "png": "[encoded data removed]",
       "text": [
        "<matplotlib.figure.Figure at 0x7f294d804810>"
       ]
      }
     ],
     "prompt_number": 17
    },
    {
     "cell_type": "markdown",
     "metadata": {},
     "source": [
      "This framework works with any other quantity we want to estimate.  By changing `sample_stat`, you can compute the SE and CI for any sample statistic.\n",
      "\n",
      "As an exercise, fill in `sample_stat` below with any of these statistics:\n",
      "\n",
      "* Standard deviation of the sample.\n",
      "* Coefficient of variation, which is the sample standard deviation divided by the sample standard mean.\n",
      "* Min or Max\n",
      "* Median (which is the 50th percentile)\n",
      "* 10th or 90th percentile.\n",
      "* Interquartile range (IQR), which is the difference between the 75th and 25th percentiles.\n",
      "\n",
      "NumPy array methods you might find useful include `std`, `min`, `max`, and `percentile`.\n",
      "Depending on the results, you might want to adjust `xlim`."
     ]
    },
    {
     "cell_type": "code",
     "collapsed": false,
     "input": [
      "def sample_stat(sample):\n",
      "    # TODO: replace the following line with another sample statistic\n",
      "    return sample.mean()\n",
      "\n",
      "slider = widgets.IntSliderWidget(min=10, max=1000, value=100)\n",
      "interact(plot_sample_stats, n=slider, xlim=fixed([0, 100]))\n",
      "None"
     ],
     "language": "python",
     "metadata": {},
     "outputs": [
      {
       "output_type": "stream",
       "stream": "stdout",
       "text": [
        "SE 1.67195986148\n",
        "90% CI [ 69.82954731  75.32184298]\n"
       ]
      },
      {
       "metadata": {},
       "output_type": "display_data",
       "png": "[encoded data removed]",
       "text": [
        "<matplotlib.figure.Figure at 0x7f294d775990>"
       ]
      }
     ],
     "prompt_number": 18
    },
    {
     "cell_type": "markdown",
     "metadata": {},
     "source": [
      "STOP HERE\n",
      "---------\n",
      "\n",
      "We will regroup and discuss before going on."
     ]
    },
    {
     "cell_type": "markdown",
     "metadata": {},
     "source": [
      "Part Two\n",
      "========\n",
      "\n",
      "So far we have shown that if we know the actual distribution of the population, we can compute the sampling distribution for any sample statistic, and from that we can compute SE and CI.\n",
      "\n",
      "But in real life we don't know the actual distribution of the population.  If we did, we wouldn't need to estimate it!\n",
      "\n",
      "In real life, we use the sample to build a model of the population distribution, then use the model to generate the sampling distribution.  A simple and popular way to do that is \"resampling,\" which means we use the sample itself as a model of the population distribution and draw samples from it.\n",
      "\n",
      "Before we go on, I want to collect some of the code from Part One and organize it as a class.  This class represents a framework for computing sampling distributions."
     ]
    },
    {
     "cell_type": "code",
     "collapsed": false,
     "input": [
      "class Resampler(object):\n",
      "    \"\"\"Represents a framework for computing sampling distributions.\"\"\"\n",
      "    \n",
      "    def __init__(self, sample, xlim=None):\n",
      "        \"\"\"Stores the actual sample.\"\"\"\n",
      "        self.sample = sample\n",
      "        self.n = len(sample)\n",
      "        self.xlim = xlim\n",
      "        \n",
      "    def resample(self):\n",
      "        \"\"\"Generates a new sample by choosing from the original\n",
      "        sample with replacement.\n",
      "        \"\"\"\n",
      "        new_sample = numpy.random.choice(self.sample, self.n, replace=True)\n",
      "        return new_sample\n",
      "    \n",
      "    def sample_stat(self, sample):\n",
      "        \"\"\"Computes a sample statistic using the original sample or a\n",
      "        simulated sample.\n",
      "        \"\"\"\n",
      "        return sample.mean()\n",
      "    \n",
      "    def compute_sample_statistics(self, iters=1000):\n",
      "        \"\"\"Simulates many experiments and collects the resulting sample\n",
      "        statistics.\n",
      "        \"\"\"\n",
      "        stats = [self.sample_stat(self.resample()) for i in range(iters)]\n",
      "        return numpy.array(stats)\n",
      "    \n",
      "    def plot_sample_stats(self):\n",
      "        \"\"\"Runs simulated experiments and summarizes the results.\n",
      "        \"\"\"\n",
      "        sample_stats = self.compute_sample_statistics()\n",
      "        summarize_sampling_distribution(sample_stats)\n",
      "        pyplot.hist(sample_stats, color=COLOR2)\n",
      "        pyplot.xlabel('sample statistic')\n",
      "        pyplot.xlim(self.xlim)"
     ],
     "language": "python",
     "metadata": {},
     "outputs": [],
     "prompt_number": 19
    },
    {
     "cell_type": "markdown",
     "metadata": {},
     "source": [
      "The following function instantiates a `Resampler` and runs it."
     ]
    },
    {
     "cell_type": "code",
     "collapsed": false,
     "input": [
      "def plot_resampled_stats(n=100):\n",
      "    sample = weight.rvs(n)\n",
      "    resampler = Resampler(sample, xlim=[55, 95])\n",
      "    resampler.plot_sample_stats()"
     ],
     "language": "python",
     "metadata": {},
     "outputs": [],
     "prompt_number": 20
    },
    {
     "cell_type": "markdown",
     "metadata": {},
     "source": [
      "Here's a test run with `n=100`"
     ]
    },
    {
     "cell_type": "code",
     "collapsed": false,
     "input": [
      "plot_resampled_stats(100)"
     ],
     "language": "python",
     "metadata": {},
     "outputs": [
      {
       "output_type": "stream",
       "stream": "stdout",
       "text": [
        "SE 1.72606450921\n",
        "90% CI [ 71.35648645  76.82647135]\n"
       ]
      },
      {
       "metadata": {},
       "output_type": "display_data",
       "png": "[encoded data removed]",
       "text": [
        "<matplotlib.figure.Figure at 0x7f2974281c50>"
       ]
      }
     ],
     "prompt_number": 21
    },
    {
     "cell_type": "markdown",
     "metadata": {},
     "source": [
      "Now we can use `plot_resampled_stats` in an interaction:"
     ]
    },
    {
     "cell_type": "code",
     "collapsed": false,
     "input": [
      "slider = widgets.IntSliderWidget(min=10, max=1000, value=100)\n",
      "interact(plot_resampled_stats, n=slider, xlim=fixed([1, 15]))\n",
      "None"
     ],
     "language": "python",
     "metadata": {},
     "outputs": [
      {
       "output_type": "stream",
       "stream": "stdout",
       "text": [
        "SE 1.67407589545\n",
        "90% CI [ 69.60129748  75.13161693]\n"
       ]
      },
      {
       "metadata": {},
       "output_type": "display_data",
       "png": "[encoded data removed]",
       "text": [
        "<matplotlib.figure.Figure at 0x7f294d796cd0>"
       ]
      }
     ],
     "prompt_number": 22
    },
    {
     "cell_type": "markdown",
     "metadata": {},
     "source": [
      "Exercise: write a new class called `StdResampler` that inherits from `Resampler` and overrides `sample_stat` so it computes the standard deviation of the resampled data."
     ]
    },
    {
     "cell_type": "code",
     "collapsed": false,
     "input": [
      "class StdResampler(Resampler):   \n",
      "    \"\"\"Computes the sampling distribution of the standard deviation.\"\"\"\n",
      "    \n",
      "    def sample_stat(self, sample):\n",
      "        \"\"\"Computes a sample statistic using the original sample or a\n",
      "        simulated sample.\n",
      "        \"\"\"\n",
      "        return sample.std()"
     ],
     "language": "python",
     "metadata": {},
     "outputs": [],
     "prompt_number": 23
    },
    {
     "cell_type": "markdown",
     "metadata": {},
     "source": [
      "Test your code using the cell below:"
     ]
    },
    {
     "cell_type": "code",
     "collapsed": false,
     "input": [
      "def plot_resampled_stats(n=100):\n",
      "    sample = weight.rvs(n)\n",
      "    resampler = StdResampler(sample, xlim=[0, 100])\n",
      "    resampler.plot_sample_stats()\n",
      "    \n",
      "plot_resampled_stats()"
     ],
     "language": "python",
     "metadata": {},
     "outputs": [
      {
       "output_type": "stream",
       "stream": "stdout",
       "text": [
        "SE 1.30056137605\n",
        "90% CI [ 13.70615766  18.05008376]\n"
       ]
      },
      {
       "metadata": {},
       "output_type": "display_data",
       "png": "[encoded data removed]",
       "text": [
        "<matplotlib.figure.Figure at 0x7f294d737b10>"
       ]
      }
     ],
     "prompt_number": 24
    },
    {
     "cell_type": "markdown",
     "metadata": {},
     "source": [
      "When your `StdResampler` is working, you should be able to interact with it:"
     ]
    },
    {
     "cell_type": "code",
     "collapsed": false,
     "input": [
      "slider = widgets.IntSliderWidget(min=10, max=1000, value=100)\n",
      "interact(plot_resampled_stats, n=slider)\n",
      "None"
     ],
     "language": "python",
     "metadata": {},
     "outputs": [
      {
       "output_type": "stream",
       "stream": "stdout",
       "text": [
        "SE 1.29095098626\n",
        "90% CI [ 15.13442137  19.27452588]\n"
       ]
      },
      {
       "metadata": {},
       "output_type": "display_data",
       "png": "[encoded data removed]",
       "text": [
        "<matplotlib.figure.Figure at 0x7f294d78d110>"
       ]
      }
     ],
     "prompt_number": 25
    },
    {
     "cell_type": "markdown",
     "metadata": {},
     "source": [
      "STOP HERE\n",
      "---------\n",
      "\n",
      "We will regroup and discuss before going on."
     ]
    },
    {
     "cell_type": "markdown",
     "metadata": {},
     "source": [
      "Part Three\n",
      "==========\n",
      "\n",
      "We can extend this framework to compute SE and CI for a difference in means.\n",
      "\n",
      "For example, men are heavier than women on average.  Here's the women's distribution again (from BRFSS data):"
     ]
    },
    {
     "cell_type": "code",
     "collapsed": false,
     "input": [
      "female_weight = scipy.stats.lognorm(0.23, 0, 70.8)\n",
      "female_weight.mean(), female_weight.std()"
     ],
     "language": "python",
     "metadata": {},
     "outputs": [
      {
       "metadata": {},
       "output_type": "pyout",
       "prompt_number": 26,
       "text": [
        "(72.697645732966876, 16.944043048498038)"
       ]
      }
     ],
     "prompt_number": 26
    },
    {
     "cell_type": "markdown",
     "metadata": {},
     "source": [
      "And here's the men's distribution:"
     ]
    },
    {
     "cell_type": "code",
     "collapsed": false,
     "input": [
      "male_weight = scipy.stats.lognorm(0.20, 0, 87.3)\n",
      "male_weight.mean(), male_weight.std()"
     ],
     "language": "python",
     "metadata": {},
     "outputs": [
      {
       "metadata": {},
       "output_type": "pyout",
       "prompt_number": 27,
       "text": [
        "(89.063576984335782, 17.992335889366288)"
       ]
      }
     ],
     "prompt_number": 27
    },
    {
     "cell_type": "markdown",
     "metadata": {},
     "source": [
      "I'll simulate a sample of 100 men and 100 women:"
     ]
    },
    {
     "cell_type": "code",
     "collapsed": false,
     "input": [
      "female_sample = female_weight.rvs(100)\n",
      "male_sample = male_weight.rvs(100)"
     ],
     "language": "python",
     "metadata": {},
     "outputs": [],
     "prompt_number": 28
    },
    {
     "cell_type": "markdown",
     "metadata": {},
     "source": [
      "The difference in means should be about 17 kg, but will vary from one random sample to the next:"
     ]
    },
    {
     "cell_type": "code",
     "collapsed": false,
     "input": [
      "male_sample.mean() - female_sample.mean()"
     ],
     "language": "python",
     "metadata": {},
     "outputs": [
      {
       "metadata": {},
       "output_type": "pyout",
       "prompt_number": 29,
       "text": [
        "15.521337537414979"
       ]
      }
     ],
     "prompt_number": 29
    },
    {
     "cell_type": "markdown",
     "metadata": {},
     "source": [
      "Here's the function that computes Cohen's $d$ again:"
     ]
    },
    {
     "cell_type": "code",
     "collapsed": false,
     "input": [
      "def CohenEffectSize(group1, group2):\n",
      "    \"\"\"Compute Cohen's d.\n",
      "\n",
      "    group1: Series or NumPy array\n",
      "    group2: Series or NumPy array\n",
      "\n",
      "    returns: float\n",
      "    \"\"\"\n",
      "    diff = group1.mean() - group2.mean()\n",
      "\n",
      "    n1, n2 = len(group1), len(group2)\n",
      "    var1 = group1.var()\n",
      "    var2 = group2.var()\n",
      "\n",
      "    pooled_var = (n1 * var1 + n2 * var2) / (n1 + n2)\n",
      "    d = diff / numpy.sqrt(pooled_var)\n",
      "    return d"
     ],
     "language": "python",
     "metadata": {},
     "outputs": [],
     "prompt_number": 30
    },
    {
     "cell_type": "markdown",
     "metadata": {},
     "source": [
      "The difference in weight between men and women is about 1 standard deviation:"
     ]
    },
    {
     "cell_type": "code",
     "collapsed": false,
     "input": [
      "CohenEffectSize(male_sample, female_sample)"
     ],
     "language": "python",
     "metadata": {},
     "outputs": [
      {
       "metadata": {},
       "output_type": "pyout",
       "prompt_number": 31,
       "text": [
        "0.9271315108152719"
       ]
      }
     ],
     "prompt_number": 31
    },
    {
     "cell_type": "markdown",
     "metadata": {},
     "source": [
      "Now we can write a version of the `Resampler` that computes the sampling distribution of $d$."
     ]
    },
    {
     "cell_type": "code",
     "collapsed": false,
     "input": [
      "class CohenResampler(Resampler):\n",
      "    def __init__(self, group1, group2, xlim=None):\n",
      "        self.group1 = group1\n",
      "        self.group2 = group2\n",
      "        self.xlim = xlim\n",
      "        \n",
      "    def resample(self):\n",
      "        group1 = numpy.random.choice(self.group1, len(self.group1), replace=True)\n",
      "        group2 = numpy.random.choice(self.group2, len(self.group2), replace=True)\n",
      "        return group1, group2\n",
      "    \n",
      "    def sample_stat(self, groups):\n",
      "        group1, group2 = groups\n",
      "        return CohenEffectSize(group1, group2)\n",
      "    \n",
      "    # NOTE: The following functions are the same as the ones in Resampler,\n",
      "    # so I could just inherit them, but I'm including them for readability\n",
      "    def compute_sample_statistics(self, iters=1000):\n",
      "        stats = [self.sample_stat(self.resample()) for i in range(iters)]\n",
      "        return numpy.array(stats)\n",
      "    \n",
      "    def plot_sample_stats(self):\n",
      "        sample_stats = self.compute_sample_statistics()\n",
      "        summarize_sampling_distribution(sample_stats)\n",
      "        pyplot.hist(sample_stats, color=COLOR2)\n",
      "        pyplot.xlabel('sample statistic')\n",
      "        pyplot.xlim(self.xlim)"
     ],
     "language": "python",
     "metadata": {},
     "outputs": [],
     "prompt_number": 32
    },
    {
     "cell_type": "markdown",
     "metadata": {},
     "source": [
      "Now we can instantiate a `CohenResampler` and plot the sampling distribution."
     ]
    },
    {
     "cell_type": "code",
     "collapsed": false,
     "input": [
      "resampler = CohenResampler(male_sample, female_sample)\n",
      "resampler.plot_sample_stats()"
     ],
     "language": "python",
     "metadata": {},
     "outputs": [
      {
       "output_type": "stream",
       "stream": "stdout",
       "text": [
        "SE 0.160707033098\n",
        "90% CI [ 0.6808076  1.1974013]\n"
       ]
      },
      {
       "metadata": {},
       "output_type": "display_data",
       "png": "[encoded data removed]",
       "text": [
        "<matplotlib.figure.Figure at 0x7f294d796fd0>"
       ]
      }
     ],
     "prompt_number": 33
    },
    {
     "cell_type": "markdown",
     "metadata": {},
     "source": [
      "This example demonstrates an advantage of the computational framework over mathematical analysis.  Statistics like Cohen's $d$, which is the ratio of other statistics, are relatively difficult to analyze.  But with a computational approach, all sample statistics are equally \"easy\".\n",
      "\n",
      "One note on vocabulary: what I am calling \"resampling\" here is a specific kind of resampling called \"bootstrapping\".  Other techniques that are also considering resampling include permutation tests, which we'll see in the next section, and \"jackknife\" resampling.  You can read more at <http://en.wikipedia.org/wiki/Resampling_(statistics)>."
     ]
    },
    {
     "cell_type": "code",
     "collapsed": false,
     "input": [],
     "language": "python",
     "metadata": {},
     "outputs": [],
     "prompt_number": 33
    }
   ],
   "metadata": {}
  }
 ]
}