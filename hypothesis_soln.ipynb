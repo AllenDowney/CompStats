{
 "metadata": {
  "name": "",
  "signature": "sha256:4eb7f0f06828b13ffc90d363ca4599228c5236e09e7560889a654ff654f8ce16"
 },
 "nbformat": 3,
 "nbformat_minor": 0,
 "worksheets": [
  {
   "cells": [
    {
     "cell_type": "markdown",
     "metadata": {},
     "source": [
      "Hypothesis Testing (solution)\n",
      "=============================\n",
      "\n",
      "Copyright 2015 Allen Downey\n",
      "\n",
      "License: [Creative Commons Attribution 4.0 International](http://creativecommons.org/licenses/by/4.0/)"
     ]
    },
    {
     "cell_type": "code",
     "collapsed": false,
     "input": [
      "from __future__ import print_function, division\n",
      "\n",
      "import numpy\n",
      "import scipy.stats\n",
      "\n",
      "import matplotlib.pyplot as pyplot\n",
      "\n",
      "from IPython.html.widgets import interact, fixed\n",
      "from IPython.html import widgets\n",
      "\n",
      "import first\n",
      "\n",
      "# seed the random number generator so we all get the same results\n",
      "numpy.random.seed(19)\n",
      "\n",
      "# some nicer colors from http://colorbrewer2.org/\n",
      "COLOR1 = '#7fc97f'\n",
      "COLOR2 = '#beaed4'\n",
      "COLOR3 = '#fdc086'\n",
      "COLOR4 = '#ffff99'\n",
      "COLOR5 = '#386cb0'\n",
      "\n",
      "%matplotlib inline"
     ],
     "language": "python",
     "metadata": {},
     "outputs": [],
     "prompt_number": 1
    },
    {
     "cell_type": "markdown",
     "metadata": {},
     "source": [
      "Part One\n",
      "========\n",
      "\n"
     ]
    },
    {
     "cell_type": "markdown",
     "metadata": {},
     "source": [
      "As an example, let's look at differences between groups.  The example I use in _Think Stats_ is first babies compared with others.  The `first` module provides code to read the data into three pandas Dataframes."
     ]
    },
    {
     "cell_type": "code",
     "collapsed": false,
     "input": [
      "live, firsts, others = first.MakeFrames()"
     ],
     "language": "python",
     "metadata": {},
     "outputs": [],
     "prompt_number": 2
    },
    {
     "cell_type": "markdown",
     "metadata": {},
     "source": [
      "The apparent effect we're interested in is the difference in the means.  Other examples might include a correlation between variables or a coefficient in a linear regression.  The number that quantifies the size of the effect, whatever it is, is the \"test statistic\"."
     ]
    },
    {
     "cell_type": "code",
     "collapsed": false,
     "input": [
      "def TestStatistic(data):\n",
      "    group1, group2 = data\n",
      "    test_stat = abs(group1.mean() - group2.mean())\n",
      "    return test_stat"
     ],
     "language": "python",
     "metadata": {},
     "outputs": [],
     "prompt_number": 3
    },
    {
     "cell_type": "markdown",
     "metadata": {},
     "source": [
      "For the first example, I extract the pregnancy length for first babies and others.  The results are pandas Series objects."
     ]
    },
    {
     "cell_type": "code",
     "collapsed": false,
     "input": [
      "group1 = firsts.prglngth\n",
      "group2 = others.prglngth"
     ],
     "language": "python",
     "metadata": {},
     "outputs": [],
     "prompt_number": 4
    },
    {
     "cell_type": "markdown",
     "metadata": {},
     "source": [
      "The actual difference in the means is 0.078 weeks, which is only 13 hours."
     ]
    },
    {
     "cell_type": "code",
     "collapsed": false,
     "input": [
      "actual = TestStatistic((group1, group2))\n",
      "actual"
     ],
     "language": "python",
     "metadata": {},
     "outputs": [
      {
       "metadata": {},
       "output_type": "pyout",
       "prompt_number": 5,
       "text": [
        "0.078037266777549519"
       ]
      }
     ],
     "prompt_number": 5
    },
    {
     "cell_type": "markdown",
     "metadata": {},
     "source": [
      "The null hypothesis is that there is no difference between the groups.  We can model that by forming a pooled sample that includes first babies and others."
     ]
    },
    {
     "cell_type": "code",
     "collapsed": false,
     "input": [
      "n, m = len(group1), len(group2)\n",
      "pool = numpy.hstack((group1, group2))"
     ],
     "language": "python",
     "metadata": {},
     "outputs": [],
     "prompt_number": 6
    },
    {
     "cell_type": "markdown",
     "metadata": {},
     "source": [
      "Then we can simulate the null hypothesis by shuffling the pool and dividing it into two groups, using the same sizes as the actual sample."
     ]
    },
    {
     "cell_type": "code",
     "collapsed": false,
     "input": [
      "def RunModel():\n",
      "    numpy.random.shuffle(pool)\n",
      "    data = pool[:n], pool[n:]\n",
      "    return data"
     ],
     "language": "python",
     "metadata": {},
     "outputs": [],
     "prompt_number": 7
    },
    {
     "cell_type": "markdown",
     "metadata": {},
     "source": [
      "The result of running the model is two NumPy arrays with the shuffled pregnancy lengths:"
     ]
    },
    {
     "cell_type": "code",
     "collapsed": false,
     "input": [
      "RunModel()"
     ],
     "language": "python",
     "metadata": {},
     "outputs": [
      {
       "metadata": {},
       "output_type": "pyout",
       "prompt_number": 8,
       "text": [
        "(array([36, 40, 39, ..., 43, 42, 40]), array([43, 39, 32, ..., 37, 35, 41]))"
       ]
      }
     ],
     "prompt_number": 8
    },
    {
     "cell_type": "markdown",
     "metadata": {},
     "source": [
      "Then we compute the same test statistic using the simulated data:"
     ]
    },
    {
     "cell_type": "code",
     "collapsed": false,
     "input": [
      "TestStatistic(RunModel())"
     ],
     "language": "python",
     "metadata": {},
     "outputs": [
      {
       "metadata": {},
       "output_type": "pyout",
       "prompt_number": 9,
       "text": [
        "0.081758440969863955"
       ]
      }
     ],
     "prompt_number": 9
    },
    {
     "cell_type": "markdown",
     "metadata": {},
     "source": [
      "If we run the model 1000 times and compute the test statistic, we can see how much the test statistic varies under the null hypothesis."
     ]
    },
    {
     "cell_type": "code",
     "collapsed": false,
     "input": [
      "test_stats = numpy.array([TestStatistic(RunModel()) for i in range(1000)])\n",
      "test_stats.shape"
     ],
     "language": "python",
     "metadata": {},
     "outputs": [
      {
       "metadata": {},
       "output_type": "pyout",
       "prompt_number": 10,
       "text": [
        "(1000,)"
       ]
      }
     ],
     "prompt_number": 10
    },
    {
     "cell_type": "markdown",
     "metadata": {},
     "source": [
      "Here's the sampling distribution of the test statistic under the null hypothesis, with the actual difference in means indicated by a gray line."
     ]
    },
    {
     "cell_type": "code",
     "collapsed": false,
     "input": [
      "def VertLine(x):\n",
      "    \"\"\"Draws a vertical line at x.\"\"\"\n",
      "    pyplot.plot([x, x], [0, 300], linewidth=3, color='0.8')\n",
      "\n",
      "VertLine(actual)\n",
      "pyplot.hist(test_stats, color=COLOR5)\n",
      "pyplot.xlabel('difference in means')\n",
      "pyplot.ylabel('count')\n",
      "None"
     ],
     "language": "python",
     "metadata": {},
     "outputs": [
      {
       "metadata": {},
       "output_type": "display_data",
       "png": "[encoded data removed]",
       "text": [
        "<matplotlib.figure.Figure at 0x7f99fc3fb410>"
       ]
      }
     ],
     "prompt_number": 11
    },
    {
     "cell_type": "markdown",
     "metadata": {},
     "source": [
      "The p-value is the probability that the test statistic under the null hypothesis exceeds the actual value."
     ]
    },
    {
     "cell_type": "code",
     "collapsed": false,
     "input": [
      "pvalue = sum(test_stats >= actual) / len(test_stats)\n",
      "pvalue"
     ],
     "language": "python",
     "metadata": {},
     "outputs": [
      {
       "metadata": {},
       "output_type": "pyout",
       "prompt_number": 12,
       "text": [
        "0.14999999999999999"
       ]
      }
     ],
     "prompt_number": 12
    },
    {
     "cell_type": "markdown",
     "metadata": {},
     "source": [
      "In this case the result is about 15%, which means that even if there is no difference between the groups, it is plausible that we could see a sample difference as big as 0.078 weeks.\n",
      "\n",
      "We conclude that the apparent effect might be due to chance, so we are not confident that it would appear in the general population, or in another sample from the same population.\n",
      "\n",
      "STOP HERE\n",
      "---------"
     ]
    },
    {
     "cell_type": "markdown",
     "metadata": {},
     "source": [
      "Part Two\n",
      "========\n",
      "\n",
      "We can take the pieces from the previous section and organize them in a class that represents the structure of a hypothesis test."
     ]
    },
    {
     "cell_type": "code",
     "collapsed": false,
     "input": [
      "class HypothesisTest(object):\n",
      "    \"\"\"Represents a hypothesis test.\"\"\"\n",
      "\n",
      "    def __init__(self, data):\n",
      "        \"\"\"Initializes.\n",
      "\n",
      "        data: data in whatever form is relevant\n",
      "        \"\"\"\n",
      "        self.data = data\n",
      "        self.MakeModel()\n",
      "        self.actual = self.TestStatistic(data)\n",
      "        self.test_stats = None\n",
      "\n",
      "    def PValue(self, iters=1000):\n",
      "        \"\"\"Computes the distribution of the test statistic and p-value.\n",
      "\n",
      "        iters: number of iterations\n",
      "\n",
      "        returns: float p-value\n",
      "        \"\"\"\n",
      "        self.test_stats = numpy.array([self.TestStatistic(self.RunModel()) \n",
      "                                       for _ in range(iters)])\n",
      "\n",
      "        count = sum(self.test_stats >= self.actual)\n",
      "        return count / iters\n",
      "\n",
      "    def MaxTestStat(self):\n",
      "        \"\"\"Returns the largest test statistic seen during simulations.\n",
      "        \"\"\"\n",
      "        return max(self.test_stats)\n",
      "\n",
      "    def PlotHist(self, label=None):\n",
      "        \"\"\"Draws a Cdf with vertical lines at the observed test stat.\n",
      "        \"\"\"\n",
      "        def VertLine(x):\n",
      "            \"\"\"Draws a vertical line at x.\"\"\"\n",
      "            pyplot.plot([x, x], [0, max(ys)], linewidth=3, color='0.8')\n",
      "\n",
      "        ys, xs, patches = pyplot.hist(ht.test_stats, color=COLOR4)\n",
      "        VertLine(self.actual)\n",
      "        pyplot.xlabel('test statistic')\n",
      "        pyplot.ylabel('count')\n",
      "\n",
      "    def TestStatistic(self, data):\n",
      "        \"\"\"Computes the test statistic.\n",
      "\n",
      "        data: data in whatever form is relevant        \n",
      "        \"\"\"\n",
      "        raise UnimplementedMethodException()\n",
      "\n",
      "    def MakeModel(self):\n",
      "        \"\"\"Build a model of the null hypothesis.\n",
      "        \"\"\"\n",
      "        pass\n",
      "\n",
      "    def RunModel(self):\n",
      "        \"\"\"Run the model of the null hypothesis.\n",
      "\n",
      "        returns: simulated data\n",
      "        \"\"\"\n",
      "        raise UnimplementedMethodException()\n"
     ],
     "language": "python",
     "metadata": {},
     "outputs": [],
     "prompt_number": 13
    },
    {
     "cell_type": "markdown",
     "metadata": {},
     "source": [
      "`HypothesisTest` is an abstract parent class that encodes the template.  Child classes fill in the missing methods.  For example, here's the test from the previous section."
     ]
    },
    {
     "cell_type": "code",
     "collapsed": false,
     "input": [
      "class DiffMeansPermute(HypothesisTest):\n",
      "    \"\"\"Tests a difference in means by permutation.\"\"\"\n",
      "\n",
      "    def TestStatistic(self, data):\n",
      "        \"\"\"Computes the test statistic.\n",
      "\n",
      "        data: data in whatever form is relevant        \n",
      "        \"\"\"\n",
      "        group1, group2 = data\n",
      "        test_stat = abs(group1.mean() - group2.mean())\n",
      "        return test_stat\n",
      "\n",
      "    def MakeModel(self):\n",
      "        \"\"\"Build a model of the null hypothesis.\n",
      "        \"\"\"\n",
      "        group1, group2 = self.data\n",
      "        self.n, self.m = len(group1), len(group2)\n",
      "        self.pool = numpy.hstack((group1, group2))\n",
      "\n",
      "    def RunModel(self):\n",
      "        \"\"\"Run the model of the null hypothesis.\n",
      "\n",
      "        returns: simulated data\n",
      "        \"\"\"\n",
      "        numpy.random.shuffle(self.pool)\n",
      "        data = self.pool[:self.n], self.pool[self.n:]\n",
      "        return data"
     ],
     "language": "python",
     "metadata": {},
     "outputs": [],
     "prompt_number": 14
    },
    {
     "cell_type": "markdown",
     "metadata": {},
     "source": [
      "Now we can run the test by instantiating a DiffMeansPermute object:"
     ]
    },
    {
     "cell_type": "code",
     "collapsed": false,
     "input": [
      "data = (firsts.prglngth, others.prglngth)\n",
      "ht = DiffMeansPermute(data)\n",
      "p_value = ht.PValue(iters=1000)\n",
      "print('\\nmeans permute pregnancy length')\n",
      "print('p-value =', p_value)\n",
      "print('actual =', ht.actual)\n",
      "print('ts max =', ht.MaxTestStat())"
     ],
     "language": "python",
     "metadata": {},
     "outputs": [
      {
       "output_type": "stream",
       "stream": "stdout",
       "text": [
        "\n",
        "means permute pregnancy length\n",
        "p-value = 0.16\n",
        "actual = 0.0780372667775\n",
        "ts max = 0.173695697482\n"
       ]
      }
     ],
     "prompt_number": 15
    },
    {
     "cell_type": "markdown",
     "metadata": {},
     "source": [
      "And we can plot the sampling distribution of the test statistic under the null hypothesis."
     ]
    },
    {
     "cell_type": "code",
     "collapsed": false,
     "input": [
      "ht.PlotHist()"
     ],
     "language": "python",
     "metadata": {},
     "outputs": [
      {
       "metadata": {},
       "output_type": "display_data",
       "png": "[encoded data removed]",
       "text": [
        "<matplotlib.figure.Figure at 0x7f99fd66c990>"
       ]
      }
     ],
     "prompt_number": 16
    },
    {
     "cell_type": "markdown",
     "metadata": {},
     "source": [
      "As an exercise, write a class named `DiffStdPermute` that extends `DiffMeansPermute` and overrides `TestStatistic` to compute the difference in standard deviations.  Is the difference in standard deviations statistically significant?"
     ]
    },
    {
     "cell_type": "code",
     "collapsed": false,
     "input": [
      "class DiffStdPermute(DiffMeansPermute):\n",
      "    \"\"\"Tests a difference in means by permutation.\"\"\"\n",
      "\n",
      "    def TestStatistic(self, data):\n",
      "        \"\"\"Computes the test statistic.\n",
      "\n",
      "        data: data in whatever form is relevant        \n",
      "        \"\"\"\n",
      "        group1, group2 = data\n",
      "        test_stat = abs(group1.std() - group2.std())\n",
      "        return test_stat\n",
      "\n",
      "data = (firsts.prglngth, others.prglngth)\n",
      "ht = DiffStdPermute(data)\n",
      "p_value = ht.PValue(iters=1000)\n",
      "print('\\nstd permute pregnancy length')\n",
      "print('p-value =', p_value)\n",
      "print('actual =', ht.actual)\n",
      "print('ts max =', ht.MaxTestStat())"
     ],
     "language": "python",
     "metadata": {},
     "outputs": [
      {
       "output_type": "stream",
       "stream": "stdout",
       "text": [
        "\n",
        "std permute pregnancy length\n",
        "p-value = 0.155\n",
        "actual = 0.176049064229\n",
        "ts max = 0.44299505029\n"
       ]
      }
     ],
     "prompt_number": 17
    },
    {
     "cell_type": "markdown",
     "metadata": {},
     "source": [
      "Now let's run DiffMeansPermute again to see if there is a difference in birth weight between first babies and others."
     ]
    },
    {
     "cell_type": "code",
     "collapsed": false,
     "input": [
      "data = (firsts.totalwgt_lb.dropna(), others.totalwgt_lb.dropna())\n",
      "ht = DiffMeansPermute(data)\n",
      "p_value = ht.PValue(iters=1000)\n",
      "print('\\nmeans permute birthweight')\n",
      "print('p-value =', p_value)\n",
      "print('actual =', ht.actual)\n",
      "print('ts max =', ht.MaxTestStat())"
     ],
     "language": "python",
     "metadata": {},
     "outputs": [
      {
       "output_type": "stream",
       "stream": "stdout",
       "text": [
        "\n",
        "means permute birthweight\n",
        "p-value = 0.0\n",
        "actual = 0.124761184535\n",
        "ts max = 0.0917504268392\n"
       ]
      }
     ],
     "prompt_number": 18
    },
    {
     "cell_type": "markdown",
     "metadata": {},
     "source": [
      "In this case, after 1000 attempts, we never see a sample difference as big as the observed difference, so we conclude that the apparent effect is unlikely under the null hypothesis.  Under normal circumstances, we can also make the inference that the apparent effect is unlikely to be caused by random sampling.\n",
      "\n",
      "One final note: in this case I would report that the p-value is less than 1/1000 or 0.001.  I would not report that p=0, because  the apparent effect is not impossible under the null hypothesis; just unlikely."
     ]
    },
    {
     "cell_type": "code",
     "collapsed": false,
     "input": [],
     "language": "python",
     "metadata": {},
     "outputs": [],
     "prompt_number": 18
    }
   ],
   "metadata": {}
  }
 ]
}