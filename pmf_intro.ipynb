{
 "metadata": {
  "name": "",
  "signature": "sha256:e87c76289bda1fa36a283f233626244f9be900f11dc0ccf8114252ea62a3c4e9"
 },
 "nbformat": 3,
 "nbformat_minor": 0,
 "worksheets": [
  {
   "cells": [
    {
     "cell_type": "markdown",
     "metadata": {},
     "source": [
      "Introduction to PMFs\n",
      "====================\n",
      "\n",
      "Copyright 2015 Allen Downey\n",
      "\n",
      "MIT License: http://opensource.org/licenses/MIT"
     ]
    },
    {
     "cell_type": "code",
     "collapsed": false,
     "input": [
      "# this future import makes this code compatible with Python 2 and 3\n",
      "from __future__ import print_function, division\n",
      "\n",
      "import random\n",
      "\n",
      "import numpy as np\n",
      "import matplotlib.pyplot as plt\n",
      "\n",
      "from itertools import product, tee, izip\n",
      "from collections import Counter, defaultdict\n",
      "from urllib2 import urlopen\n",
      "\n",
      "%matplotlib inline\n",
      "\n",
      "# less awful colors from http://colorbrewer2.org/\n",
      "LILAC = '#998ec3'\n",
      "ORANGE = '#f1a340'"
     ],
     "language": "python",
     "metadata": {},
     "outputs": [],
     "prompt_number": 416
    },
    {
     "cell_type": "markdown",
     "metadata": {},
     "source": [
      "A histogram is a map from each possible value to the number of times it appears.  A map can be a mathematical function or, as in the examples below, a Python data structure that provides the ability to look up a value and get its probability.\n",
      "\n",
      "`Counter` is a data structure provided by Python; I am defining a new data structure, called a `Hist`, that has all the features of a Counter, plus a few more that I define."
     ]
    },
    {
     "cell_type": "code",
     "collapsed": false,
     "input": [
      "class Hist(Counter):\n",
      "    \n",
      "    def __add__(self, other):\n",
      "        \"\"\"Returns the Pmf of the sum of elements from self and other.\"\"\"\n",
      "        return Hist(x + y for x, y in product(self.elements(), other.elements()))\n",
      "    \n",
      "    def choice(self):\n",
      "        \"\"\"Chooses a random element.\"\"\"\n",
      "        return random.choice(list(self.elements()))\n",
      "    \n",
      "    def plot(self, **options):\n",
      "        \"\"\"Plots the Pmf.\"\"\"\n",
      "        plt.bar(*zip(*self.items()), **options)\n",
      "        plt.xlabel('values')\n",
      "        plt.ylabel('counts')\n",
      "    \n",
      "    def ranks(self):\n",
      "        \"\"\"Returns ranks and counts as lists.\"\"\"\n",
      "        return izip(*enumerate(sorted(self.values(), reverse=True)))"
     ],
     "language": "python",
     "metadata": {},
     "outputs": [],
     "prompt_number": 417
    },
    {
     "cell_type": "markdown",
     "metadata": {},
     "source": [
      "As an example, I'll make a Hist of the letters in my name:"
     ]
    },
    {
     "cell_type": "code",
     "collapsed": false,
     "input": [
      "hist = Hist('allen')\n",
      "hist"
     ],
     "language": "python",
     "metadata": {},
     "outputs": [
      {
       "metadata": {},
       "output_type": "pyout",
       "prompt_number": 418,
       "text": [
        "Hist({'l': 2, 'a': 1, 'e': 1, 'n': 1})"
       ]
      }
     ],
     "prompt_number": 418
    },
    {
     "cell_type": "markdown",
     "metadata": {},
     "source": [
      "We can look up a letter and get the corresponding count:"
     ]
    },
    {
     "cell_type": "code",
     "collapsed": false,
     "input": [
      "hist['l']"
     ],
     "language": "python",
     "metadata": {},
     "outputs": [
      {
       "metadata": {},
       "output_type": "pyout",
       "prompt_number": 419,
       "text": [
        "2"
       ]
      }
     ],
     "prompt_number": 419
    },
    {
     "cell_type": "markdown",
     "metadata": {},
     "source": [
      "Or loop through all the letters and print their counts:"
     ]
    },
    {
     "cell_type": "code",
     "collapsed": false,
     "input": [
      "for letter in hist:\n",
      "    print(letter, hist[letter])"
     ],
     "language": "python",
     "metadata": {},
     "outputs": [
      {
       "output_type": "stream",
       "stream": "stdout",
       "text": [
        "a 1\n",
        "e 1\n",
        "l 2\n",
        "n 1\n"
       ]
      }
     ],
     "prompt_number": 420
    },
    {
     "cell_type": "markdown",
     "metadata": {},
     "source": [
      "`Counter` provides `most_common`, which makes a list of (element, count) pairs:"
     ]
    },
    {
     "cell_type": "code",
     "collapsed": false,
     "input": [
      "hist.most_common()"
     ],
     "language": "python",
     "metadata": {},
     "outputs": [
      {
       "metadata": {},
       "output_type": "pyout",
       "prompt_number": 421,
       "text": [
        "[('l', 2), ('a', 1), ('e', 1), ('n', 1)]"
       ]
      }
     ],
     "prompt_number": 421
    },
    {
     "cell_type": "markdown",
     "metadata": {},
     "source": [
      "Here they are in a more readable form:"
     ]
    },
    {
     "cell_type": "code",
     "collapsed": false,
     "input": [
      "for letter, count in hist.most_common():\n",
      "    print(letter, count)"
     ],
     "language": "python",
     "metadata": {},
     "outputs": [
      {
       "output_type": "stream",
       "stream": "stdout",
       "text": [
        "l 2\n",
        "a 1\n",
        "e 1\n",
        "n 1\n"
       ]
      }
     ],
     "prompt_number": 422
    },
    {
     "cell_type": "markdown",
     "metadata": {},
     "source": [
      "I defined `choice`, which returns a random element from the Hist.  On average, 'l' should appear twice as often as the other letters."
     ]
    },
    {
     "cell_type": "code",
     "collapsed": false,
     "input": [
      "for i in range(10):\n",
      "    print(hist.choice())"
     ],
     "language": "python",
     "metadata": {},
     "outputs": [
      {
       "output_type": "stream",
       "stream": "stdout",
       "text": [
        "l\n",
        "l\n",
        "a\n",
        "e\n",
        "l\n",
        "l\n",
        "l\n",
        "a\n",
        "n\n",
        "e\n"
       ]
      }
     ],
     "prompt_number": 423
    },
    {
     "cell_type": "markdown",
     "metadata": {},
     "source": [
      "One (perhaps surprising) thing you can use Hists for: checking whether two words are anagrams of each  other.  If two words are anagrams, they have the same Hist: "
     ]
    },
    {
     "cell_type": "code",
     "collapsed": false,
     "input": [
      "def is_anagram(word1, word2):\n",
      "    return Hist(word1) == Hist(word2)"
     ],
     "language": "python",
     "metadata": {},
     "outputs": [],
     "prompt_number": 424
    },
    {
     "cell_type": "markdown",
     "metadata": {},
     "source": [
      "Here's a simple test:"
     ]
    },
    {
     "cell_type": "code",
     "collapsed": false,
     "input": [
      "is_anagram('allen', 'nella')"
     ],
     "language": "python",
     "metadata": {},
     "outputs": [
      {
       "metadata": {},
       "output_type": "pyout",
       "prompt_number": 425,
       "text": [
        "True"
       ]
      }
     ],
     "prompt_number": 425
    },
    {
     "cell_type": "markdown",
     "metadata": {},
     "source": [
      "And my favorite anagram pair:"
     ]
    },
    {
     "cell_type": "code",
     "collapsed": false,
     "input": [
      "is_anagram('tachymetric', 'mccarthyite')"
     ],
     "language": "python",
     "metadata": {},
     "outputs": [
      {
       "metadata": {},
       "output_type": "pyout",
       "prompt_number": 426,
       "text": [
        "True"
       ]
      }
     ],
     "prompt_number": 426
    },
    {
     "cell_type": "markdown",
     "metadata": {},
     "source": [
      "And here's a false one, just to make sure:"
     ]
    },
    {
     "cell_type": "code",
     "collapsed": false,
     "input": [
      "is_anagram('abcd', 'abccd')"
     ],
     "language": "python",
     "metadata": {},
     "outputs": [
      {
       "metadata": {},
       "output_type": "pyout",
       "prompt_number": 427,
       "text": [
        "False"
       ]
      }
     ],
     "prompt_number": 427
    },
    {
     "cell_type": "markdown",
     "metadata": {},
     "source": [
      "So far the elements in the Hists have been letters (actually strings), but in statistics it is more common to work with numerical elements.  Here's a Pmf that represents the possible outcomes of a six-sided die:"
     ]
    },
    {
     "cell_type": "code",
     "collapsed": false,
     "input": [
      "d6 = Hist([1,2,3,4,5,6])\n",
      "d6"
     ],
     "language": "python",
     "metadata": {},
     "outputs": [
      {
       "metadata": {},
       "output_type": "pyout",
       "prompt_number": 428,
       "text": [
        "Hist({1: 1, 2: 1, 3: 1, 4: 1, 5: 1, 6: 1})"
       ]
      }
     ],
     "prompt_number": 428
    },
    {
     "cell_type": "markdown",
     "metadata": {},
     "source": [
      "`Hist` provides a plot function:"
     ]
    },
    {
     "cell_type": "code",
     "collapsed": false,
     "input": [
      "d6.plot(color=LILAC)"
     ],
     "language": "python",
     "metadata": {},
     "outputs": [
      {
       "metadata": {},
       "output_type": "display_data",
       "png": "[encoded data removed]",
       "text": [
        "<matplotlib.figure.Figure at 0x7fcad1c31890>"
       ]
      }
     ],
     "prompt_number": 429
    },
    {
     "cell_type": "markdown",
     "metadata": {},
     "source": [
      "`elements` returns an iterator"
     ]
    },
    {
     "cell_type": "code",
     "collapsed": false,
     "input": [
      "d6.elements()"
     ],
     "language": "python",
     "metadata": {},
     "outputs": [
      {
       "metadata": {},
       "output_type": "pyout",
       "prompt_number": 430,
       "text": [
        "<itertools.chain at 0x7fcad1d5e810>"
       ]
      }
     ],
     "prompt_number": 430
    },
    {
     "cell_type": "markdown",
     "metadata": {},
     "source": [
      "Which is easier to see if you convert to a list:"
     ]
    },
    {
     "cell_type": "code",
     "collapsed": false,
     "input": [
      "list(d6.elements())"
     ],
     "language": "python",
     "metadata": {},
     "outputs": [
      {
       "metadata": {},
       "output_type": "pyout",
       "prompt_number": 431,
       "text": [
        "[1, 2, 3, 4, 5, 6]"
       ]
      }
     ],
     "prompt_number": 431
    },
    {
     "cell_type": "markdown",
     "metadata": {},
     "source": [
      "The product of two iterators is an iterator that enumerates all pairs:"
     ]
    },
    {
     "cell_type": "code",
     "collapsed": false,
     "input": [
      "product(d6.elements(), d6.elements())"
     ],
     "language": "python",
     "metadata": {},
     "outputs": [
      {
       "metadata": {},
       "output_type": "pyout",
       "prompt_number": 432,
       "text": [
        "<itertools.product at 0x7fcad21c9d20>"
       ]
      }
     ],
     "prompt_number": 432
    },
    {
     "cell_type": "markdown",
     "metadata": {},
     "source": [
      "Here are the elements of the product:"
     ]
    },
    {
     "cell_type": "code",
     "collapsed": false,
     "input": [
      "list(product(d6.elements(), d6.elements()))"
     ],
     "language": "python",
     "metadata": {},
     "outputs": [
      {
       "metadata": {},
       "output_type": "pyout",
       "prompt_number": 433,
       "text": [
        "[(1, 1),\n",
        " (1, 2),\n",
        " (1, 3),\n",
        " (1, 4),\n",
        " (1, 5),\n",
        " (1, 6),\n",
        " (2, 1),\n",
        " (2, 2),\n",
        " (2, 3),\n",
        " (2, 4),\n",
        " (2, 5),\n",
        " (2, 6),\n",
        " (3, 1),\n",
        " (3, 2),\n",
        " (3, 3),\n",
        " (3, 4),\n",
        " (3, 5),\n",
        " (3, 6),\n",
        " (4, 1),\n",
        " (4, 2),\n",
        " (4, 3),\n",
        " (4, 4),\n",
        " (4, 5),\n",
        " (4, 6),\n",
        " (5, 1),\n",
        " (5, 2),\n",
        " (5, 3),\n",
        " (5, 4),\n",
        " (5, 5),\n",
        " (5, 6),\n",
        " (6, 1),\n",
        " (6, 2),\n",
        " (6, 3),\n",
        " (6, 4),\n",
        " (6, 5),\n",
        " (6, 6)]"
       ]
      }
     ],
     "prompt_number": 433
    },
    {
     "cell_type": "markdown",
     "metadata": {},
     "source": [
      "Now we can compute the sum of all pairs:"
     ]
    },
    {
     "cell_type": "code",
     "collapsed": false,
     "input": [
      "list(x + y for x, y in product(d6.elements(), d6.elements()))"
     ],
     "language": "python",
     "metadata": {},
     "outputs": [
      {
       "metadata": {},
       "output_type": "pyout",
       "prompt_number": 434,
       "text": [
        "[2,\n",
        " 3,\n",
        " 4,\n",
        " 5,\n",
        " 6,\n",
        " 7,\n",
        " 3,\n",
        " 4,\n",
        " 5,\n",
        " 6,\n",
        " 7,\n",
        " 8,\n",
        " 4,\n",
        " 5,\n",
        " 6,\n",
        " 7,\n",
        " 8,\n",
        " 9,\n",
        " 5,\n",
        " 6,\n",
        " 7,\n",
        " 8,\n",
        " 9,\n",
        " 10,\n",
        " 6,\n",
        " 7,\n",
        " 8,\n",
        " 9,\n",
        " 10,\n",
        " 11,\n",
        " 7,\n",
        " 8,\n",
        " 9,\n",
        " 10,\n",
        " 11,\n",
        " 12]"
       ]
      }
     ],
     "prompt_number": 434
    },
    {
     "cell_type": "markdown",
     "metadata": {},
     "source": [
      "And finally make a Hist of the sums:"
     ]
    },
    {
     "cell_type": "code",
     "collapsed": false,
     "input": [
      "Hist(x + y for x, y in product(d6.elements(), d6.elements()))"
     ],
     "language": "python",
     "metadata": {},
     "outputs": [
      {
       "metadata": {},
       "output_type": "pyout",
       "prompt_number": 435,
       "text": [
        "Hist({7: 6, 6: 5, 8: 5, 5: 4, 9: 4, 4: 3, 10: 3, 3: 2, 11: 2, 2: 1, 12: 1})"
       ]
      }
     ],
     "prompt_number": 435
    },
    {
     "cell_type": "markdown",
     "metadata": {},
     "source": [
      "But all of that is provided by `__add__`, which we can call using the `+` operator:"
     ]
    },
    {
     "cell_type": "code",
     "collapsed": false,
     "input": [
      "twice = d6 + d6\n",
      "twice"
     ],
     "language": "python",
     "metadata": {},
     "outputs": [
      {
       "metadata": {},
       "output_type": "pyout",
       "prompt_number": 436,
       "text": [
        "Hist({7: 6, 6: 5, 8: 5, 5: 4, 9: 4, 4: 3, 10: 3, 3: 2, 11: 2, 2: 1, 12: 1})"
       ]
      }
     ],
     "prompt_number": 436
    },
    {
     "cell_type": "markdown",
     "metadata": {},
     "source": [
      "Now we can plot the histogram of outcomes from rolling two dice:"
     ]
    },
    {
     "cell_type": "code",
     "collapsed": false,
     "input": [
      "twice.plot(color=ORANGE)"
     ],
     "language": "python",
     "metadata": {},
     "outputs": [
      {
       "metadata": {},
       "output_type": "display_data",
       "png": "[encoded data removed]",
       "text": [
        "<matplotlib.figure.Figure at 0x7fcae9b03850>"
       ]
      }
     ],
     "prompt_number": 437
    },
    {
     "cell_type": "markdown",
     "metadata": {},
     "source": [
      "Or three dice:"
     ]
    },
    {
     "cell_type": "code",
     "collapsed": false,
     "input": [
      "thrice = twice + d6\n",
      "thrice"
     ],
     "language": "python",
     "metadata": {},
     "outputs": [
      {
       "metadata": {},
       "output_type": "pyout",
       "prompt_number": 438,
       "text": [
        "Hist({10: 27, 11: 27, 9: 25, 12: 25, 8: 21, 13: 21, 7: 15, 14: 15, 6: 10, 15: 10, 5: 6, 16: 6, 4: 3, 17: 3, 3: 1, 18: 1})"
       ]
      }
     ],
     "prompt_number": 438
    },
    {
     "cell_type": "markdown",
     "metadata": {},
     "source": [
      "Notice that this is looking more and more like a bell curve:"
     ]
    },
    {
     "cell_type": "code",
     "collapsed": false,
     "input": [
      "thrice.plot(color=LILAC)"
     ],
     "language": "python",
     "metadata": {},
     "outputs": [
      {
       "metadata": {},
       "output_type": "display_data",
       "png": "[encoded data removed]",
       "text": [
        "<matplotlib.figure.Figure at 0x7fcae9ea7590>"
       ]
      }
     ],
     "prompt_number": 439
    },
    {
     "cell_type": "markdown",
     "metadata": {},
     "source": [
      "As the number of dice increases, the result converges to a normal distribution, also known as a Gaussian distribution."
     ]
    },
    {
     "cell_type": "markdown",
     "metadata": {},
     "source": [
      "Are first babies more likely to be late?\n",
      "----------------------------------------\n",
      "\n",
      "This is one of the first topics I wrote about in my blog, and still the most popular, with more than 100,000 page views:\n",
      "\n",
      "http://allendowney.blogspot.com/2011/02/are-first-babies-more-likely-to-be-late.html\n",
      "\n",
      "I used data from the National Survey of Family Growth (NSFG):\n",
      "\n"
     ]
    },
    {
     "cell_type": "code",
     "collapsed": false,
     "input": [
      "import thinkstats2\n",
      "\n",
      "dct_file = '2002FemPreg.dct'\n",
      "dat_file = '2002FemPreg.dat.gz'\n",
      "\n",
      "dct = thinkstats2.ReadStataDct(dct_file)\n",
      "preg = dct.ReadFixedWidth(dat_file, compression='gzip')\n",
      "\n",
      "preg"
     ],
     "language": "python",
     "metadata": {},
     "outputs": [
      {
       "html": [
        "<div style=\"max-height:1000px;max-width:1500px;overflow:auto;\">\n",
        "<table border=\"1\" class=\"dataframe\">\n",
        "  <thead>\n",
        "    <tr style=\"text-align: right;\">\n",
        "      <th></th>\n",
        "      <th>caseid</th>\n",
        "      <th>pregordr</th>\n",
        "      <th>howpreg_n</th>\n",
        "      <th>howpreg_p</th>\n",
        "      <th>moscurrp</th>\n",
        "      <th>nowprgdk</th>\n",
        "      <th>pregend1</th>\n",
        "      <th>pregend2</th>\n",
        "      <th>nbrnaliv</th>\n",
        "      <th>multbrth</th>\n",
        "      <th>...</th>\n",
        "      <th>poverty_i</th>\n",
        "      <th>laborfor_i</th>\n",
        "      <th>religion_i</th>\n",
        "      <th>metro_i</th>\n",
        "      <th>basewgt</th>\n",
        "      <th>adj_mod_basewgt</th>\n",
        "      <th>finalwgt</th>\n",
        "      <th>secu_p</th>\n",
        "      <th>sest</th>\n",
        "      <th>cmintvw</th>\n",
        "    </tr>\n",
        "  </thead>\n",
        "  <tbody>\n",
        "    <tr>\n",
        "      <th>0    </th>\n",
        "      <td>     1</td>\n",
        "      <td> 1</td>\n",
        "      <td>NaN</td>\n",
        "      <td>NaN</td>\n",
        "      <td>NaN</td>\n",
        "      <td>NaN</td>\n",
        "      <td>  6</td>\n",
        "      <td>NaN</td>\n",
        "      <td>  1</td>\n",
        "      <td>NaN</td>\n",
        "      <td>...</td>\n",
        "      <td> 0</td>\n",
        "      <td> 0</td>\n",
        "      <td> 0</td>\n",
        "      <td> 0</td>\n",
        "      <td> 3410.389399</td>\n",
        "      <td> 3869.349602</td>\n",
        "      <td>  6448.271112</td>\n",
        "      <td> 2</td>\n",
        "      <td>  9</td>\n",
        "      <td> 1231</td>\n",
        "    </tr>\n",
        "    <tr>\n",
        "      <th>1    </th>\n",
        "      <td>     1</td>\n",
        "      <td> 2</td>\n",
        "      <td>NaN</td>\n",
        "      <td>NaN</td>\n",
        "      <td>NaN</td>\n",
        "      <td>NaN</td>\n",
        "      <td>  6</td>\n",
        "      <td>NaN</td>\n",
        "      <td>  1</td>\n",
        "      <td>NaN</td>\n",
        "      <td>...</td>\n",
        "      <td> 0</td>\n",
        "      <td> 0</td>\n",
        "      <td> 0</td>\n",
        "      <td> 0</td>\n",
        "      <td> 3410.389399</td>\n",
        "      <td> 3869.349602</td>\n",
        "      <td>  6448.271112</td>\n",
        "      <td> 2</td>\n",
        "      <td>  9</td>\n",
        "      <td> 1231</td>\n",
        "    </tr>\n",
        "    <tr>\n",
        "      <th>2    </th>\n",
        "      <td>     2</td>\n",
        "      <td> 1</td>\n",
        "      <td>NaN</td>\n",
        "      <td>NaN</td>\n",
        "      <td>NaN</td>\n",
        "      <td>NaN</td>\n",
        "      <td>  5</td>\n",
        "      <td>NaN</td>\n",
        "      <td>  3</td>\n",
        "      <td>  5</td>\n",
        "      <td>...</td>\n",
        "      <td> 0</td>\n",
        "      <td> 0</td>\n",
        "      <td> 0</td>\n",
        "      <td> 0</td>\n",
        "      <td> 7226.301740</td>\n",
        "      <td> 8567.549110</td>\n",
        "      <td> 12999.542264</td>\n",
        "      <td> 2</td>\n",
        "      <td> 12</td>\n",
        "      <td> 1231</td>\n",
        "    </tr>\n",
        "    <tr>\n",
        "      <th>3    </th>\n",
        "      <td>     2</td>\n",
        "      <td> 2</td>\n",
        "      <td>NaN</td>\n",
        "      <td>NaN</td>\n",
        "      <td>NaN</td>\n",
        "      <td>NaN</td>\n",
        "      <td>  6</td>\n",
        "      <td>NaN</td>\n",
        "      <td>  1</td>\n",
        "      <td>NaN</td>\n",
        "      <td>...</td>\n",
        "      <td> 0</td>\n",
        "      <td> 0</td>\n",
        "      <td> 0</td>\n",
        "      <td> 0</td>\n",
        "      <td> 7226.301740</td>\n",
        "      <td> 8567.549110</td>\n",
        "      <td> 12999.542264</td>\n",
        "      <td> 2</td>\n",
        "      <td> 12</td>\n",
        "      <td> 1231</td>\n",
        "    </tr>\n",
        "    <tr>\n",
        "      <th>4    </th>\n",
        "      <td>     2</td>\n",
        "      <td> 3</td>\n",
        "      <td>NaN</td>\n",
        "      <td>NaN</td>\n",
        "      <td>NaN</td>\n",
        "      <td>NaN</td>\n",
        "      <td>  6</td>\n",
        "      <td>NaN</td>\n",
        "      <td>  1</td>\n",
        "      <td>NaN</td>\n",
        "      <td>...</td>\n",
        "      <td> 0</td>\n",
        "      <td> 0</td>\n",
        "      <td> 0</td>\n",
        "      <td> 0</td>\n",
        "      <td> 7226.301740</td>\n",
        "      <td> 8567.549110</td>\n",
        "      <td> 12999.542264</td>\n",
        "      <td> 2</td>\n",
        "      <td> 12</td>\n",
        "      <td> 1231</td>\n",
        "    </tr>\n",
        "    <tr>\n",
        "      <th>5    </th>\n",
        "      <td>     6</td>\n",
        "      <td> 1</td>\n",
        "      <td>NaN</td>\n",
        "      <td>NaN</td>\n",
        "      <td>NaN</td>\n",
        "      <td>NaN</td>\n",
        "      <td>  6</td>\n",
        "      <td>NaN</td>\n",
        "      <td>  1</td>\n",
        "      <td>NaN</td>\n",
        "      <td>...</td>\n",
        "      <td> 0</td>\n",
        "      <td> 0</td>\n",
        "      <td> 0</td>\n",
        "      <td> 0</td>\n",
        "      <td> 4870.926435</td>\n",
        "      <td> 5325.196999</td>\n",
        "      <td>  8874.440799</td>\n",
        "      <td> 1</td>\n",
        "      <td> 23</td>\n",
        "      <td> 1231</td>\n",
        "    </tr>\n",
        "    <tr>\n",
        "      <th>6    </th>\n",
        "      <td>     6</td>\n",
        "      <td> 2</td>\n",
        "      <td>NaN</td>\n",
        "      <td>NaN</td>\n",
        "      <td>NaN</td>\n",
        "      <td>NaN</td>\n",
        "      <td>  6</td>\n",
        "      <td>NaN</td>\n",
        "      <td>  1</td>\n",
        "      <td>NaN</td>\n",
        "      <td>...</td>\n",
        "      <td> 0</td>\n",
        "      <td> 0</td>\n",
        "      <td> 0</td>\n",
        "      <td> 0</td>\n",
        "      <td> 4870.926435</td>\n",
        "      <td> 5325.196999</td>\n",
        "      <td>  8874.440799</td>\n",
        "      <td> 1</td>\n",
        "      <td> 23</td>\n",
        "      <td> 1231</td>\n",
        "    </tr>\n",
        "    <tr>\n",
        "      <th>7    </th>\n",
        "      <td>     6</td>\n",
        "      <td> 3</td>\n",
        "      <td>NaN</td>\n",
        "      <td>NaN</td>\n",
        "      <td>NaN</td>\n",
        "      <td>NaN</td>\n",
        "      <td>  6</td>\n",
        "      <td>NaN</td>\n",
        "      <td>  1</td>\n",
        "      <td>NaN</td>\n",
        "      <td>...</td>\n",
        "      <td> 0</td>\n",
        "      <td> 0</td>\n",
        "      <td> 0</td>\n",
        "      <td> 0</td>\n",
        "      <td> 4870.926435</td>\n",
        "      <td> 5325.196999</td>\n",
        "      <td>  8874.440799</td>\n",
        "      <td> 1</td>\n",
        "      <td> 23</td>\n",
        "      <td> 1231</td>\n",
        "    </tr>\n",
        "    <tr>\n",
        "      <th>8    </th>\n",
        "      <td>     7</td>\n",
        "      <td> 1</td>\n",
        "      <td>NaN</td>\n",
        "      <td>NaN</td>\n",
        "      <td>NaN</td>\n",
        "      <td>NaN</td>\n",
        "      <td>  5</td>\n",
        "      <td>NaN</td>\n",
        "      <td>  1</td>\n",
        "      <td>NaN</td>\n",
        "      <td>...</td>\n",
        "      <td> 0</td>\n",
        "      <td> 0</td>\n",
        "      <td> 0</td>\n",
        "      <td> 0</td>\n",
        "      <td> 3409.579565</td>\n",
        "      <td> 3787.539000</td>\n",
        "      <td>  6911.879921</td>\n",
        "      <td> 2</td>\n",
        "      <td> 14</td>\n",
        "      <td> 1233</td>\n",
        "    </tr>\n",
        "    <tr>\n",
        "      <th>9    </th>\n",
        "      <td>     7</td>\n",
        "      <td> 2</td>\n",
        "      <td>NaN</td>\n",
        "      <td>NaN</td>\n",
        "      <td>NaN</td>\n",
        "      <td>NaN</td>\n",
        "      <td>  5</td>\n",
        "      <td>NaN</td>\n",
        "      <td>  1</td>\n",
        "      <td>NaN</td>\n",
        "      <td>...</td>\n",
        "      <td> 0</td>\n",
        "      <td> 0</td>\n",
        "      <td> 0</td>\n",
        "      <td> 0</td>\n",
        "      <td> 3409.579565</td>\n",
        "      <td> 3787.539000</td>\n",
        "      <td>  6911.879921</td>\n",
        "      <td> 2</td>\n",
        "      <td> 14</td>\n",
        "      <td> 1233</td>\n",
        "    </tr>\n",
        "    <tr>\n",
        "      <th>10   </th>\n",
        "      <td>    12</td>\n",
        "      <td> 1</td>\n",
        "      <td>NaN</td>\n",
        "      <td>NaN</td>\n",
        "      <td>NaN</td>\n",
        "      <td>NaN</td>\n",
        "      <td>  5</td>\n",
        "      <td>NaN</td>\n",
        "      <td>  1</td>\n",
        "      <td>NaN</td>\n",
        "      <td>...</td>\n",
        "      <td> 0</td>\n",
        "      <td> 0</td>\n",
        "      <td> 0</td>\n",
        "      <td> 0</td>\n",
        "      <td> 3612.781968</td>\n",
        "      <td> 4146.013572</td>\n",
        "      <td>  6909.331618</td>\n",
        "      <td> 1</td>\n",
        "      <td> 31</td>\n",
        "      <td> 1231</td>\n",
        "    </tr>\n",
        "    <tr>\n",
        "      <th>11   </th>\n",
        "      <td>    14</td>\n",
        "      <td> 1</td>\n",
        "      <td>NaN</td>\n",
        "      <td>NaN</td>\n",
        "      <td>NaN</td>\n",
        "      <td>NaN</td>\n",
        "      <td>  6</td>\n",
        "      <td>NaN</td>\n",
        "      <td>  1</td>\n",
        "      <td>NaN</td>\n",
        "      <td>...</td>\n",
        "      <td> 0</td>\n",
        "      <td> 0</td>\n",
        "      <td> 0</td>\n",
        "      <td> 0</td>\n",
        "      <td> 2418.069494</td>\n",
        "      <td> 2810.302771</td>\n",
        "      <td>  3039.904507</td>\n",
        "      <td> 2</td>\n",
        "      <td> 56</td>\n",
        "      <td> 1232</td>\n",
        "    </tr>\n",
        "    <tr>\n",
        "      <th>12   </th>\n",
        "      <td>    14</td>\n",
        "      <td> 2</td>\n",
        "      <td>NaN</td>\n",
        "      <td>NaN</td>\n",
        "      <td>NaN</td>\n",
        "      <td>NaN</td>\n",
        "      <td>  6</td>\n",
        "      <td>NaN</td>\n",
        "      <td>  1</td>\n",
        "      <td>NaN</td>\n",
        "      <td>...</td>\n",
        "      <td> 0</td>\n",
        "      <td> 0</td>\n",
        "      <td> 0</td>\n",
        "      <td> 0</td>\n",
        "      <td> 2418.069494</td>\n",
        "      <td> 2810.302771</td>\n",
        "      <td>  3039.904507</td>\n",
        "      <td> 2</td>\n",
        "      <td> 56</td>\n",
        "      <td> 1232</td>\n",
        "    </tr>\n",
        "    <tr>\n",
        "      <th>13   </th>\n",
        "      <td>    14</td>\n",
        "      <td> 3</td>\n",
        "      <td>NaN</td>\n",
        "      <td>NaN</td>\n",
        "      <td>NaN</td>\n",
        "      <td>NaN</td>\n",
        "      <td>  3</td>\n",
        "      <td>NaN</td>\n",
        "      <td>NaN</td>\n",
        "      <td>NaN</td>\n",
        "      <td>...</td>\n",
        "      <td> 0</td>\n",
        "      <td> 0</td>\n",
        "      <td> 0</td>\n",
        "      <td> 0</td>\n",
        "      <td> 2418.069494</td>\n",
        "      <td> 2810.302771</td>\n",
        "      <td>  3039.904507</td>\n",
        "      <td> 2</td>\n",
        "      <td> 56</td>\n",
        "      <td> 1232</td>\n",
        "    </tr>\n",
        "    <tr>\n",
        "      <th>14   </th>\n",
        "      <td>    15</td>\n",
        "      <td> 1</td>\n",
        "      <td>NaN</td>\n",
        "      <td>NaN</td>\n",
        "      <td>NaN</td>\n",
        "      <td>NaN</td>\n",
        "      <td>  1</td>\n",
        "      <td>NaN</td>\n",
        "      <td>NaN</td>\n",
        "      <td>NaN</td>\n",
        "      <td>...</td>\n",
        "      <td> 0</td>\n",
        "      <td> 0</td>\n",
        "      <td> 0</td>\n",
        "      <td> 0</td>\n",
        "      <td> 1667.816099</td>\n",
        "      <td> 3200.862017</td>\n",
        "      <td>  5553.495599</td>\n",
        "      <td> 1</td>\n",
        "      <td> 33</td>\n",
        "      <td> 1228</td>\n",
        "    </tr>\n",
        "    <tr>\n",
        "      <th>15   </th>\n",
        "      <td>    15</td>\n",
        "      <td> 2</td>\n",
        "      <td>NaN</td>\n",
        "      <td>NaN</td>\n",
        "      <td>NaN</td>\n",
        "      <td>NaN</td>\n",
        "      <td>  6</td>\n",
        "      <td>NaN</td>\n",
        "      <td>  1</td>\n",
        "      <td>NaN</td>\n",
        "      <td>...</td>\n",
        "      <td> 0</td>\n",
        "      <td> 0</td>\n",
        "      <td> 0</td>\n",
        "      <td> 0</td>\n",
        "      <td> 1667.816099</td>\n",
        "      <td> 3200.862017</td>\n",
        "      <td>  5553.495599</td>\n",
        "      <td> 1</td>\n",
        "      <td> 33</td>\n",
        "      <td> 1228</td>\n",
        "    </tr>\n",
        "    <tr>\n",
        "      <th>16   </th>\n",
        "      <td>    15</td>\n",
        "      <td> 3</td>\n",
        "      <td>NaN</td>\n",
        "      <td>NaN</td>\n",
        "      <td>NaN</td>\n",
        "      <td>NaN</td>\n",
        "      <td>  6</td>\n",
        "      <td>NaN</td>\n",
        "      <td>  1</td>\n",
        "      <td>NaN</td>\n",
        "      <td>...</td>\n",
        "      <td> 0</td>\n",
        "      <td> 0</td>\n",
        "      <td> 0</td>\n",
        "      <td> 0</td>\n",
        "      <td> 1667.816099</td>\n",
        "      <td> 3200.862017</td>\n",
        "      <td>  5553.495599</td>\n",
        "      <td> 1</td>\n",
        "      <td> 33</td>\n",
        "      <td> 1228</td>\n",
        "    </tr>\n",
        "    <tr>\n",
        "      <th>17   </th>\n",
        "      <td>    18</td>\n",
        "      <td> 1</td>\n",
        "      <td>NaN</td>\n",
        "      <td>NaN</td>\n",
        "      <td>NaN</td>\n",
        "      <td>NaN</td>\n",
        "      <td>  5</td>\n",
        "      <td>NaN</td>\n",
        "      <td>  1</td>\n",
        "      <td>NaN</td>\n",
        "      <td>...</td>\n",
        "      <td> 0</td>\n",
        "      <td> 0</td>\n",
        "      <td> 0</td>\n",
        "      <td> 0</td>\n",
        "      <td> 2957.257457</td>\n",
        "      <td> 3404.403067</td>\n",
        "      <td>  4153.371741</td>\n",
        "      <td> 2</td>\n",
        "      <td> 14</td>\n",
        "      <td> 1230</td>\n",
        "    </tr>\n",
        "    <tr>\n",
        "      <th>18   </th>\n",
        "      <td>    18</td>\n",
        "      <td> 2</td>\n",
        "      <td>NaN</td>\n",
        "      <td>NaN</td>\n",
        "      <td>NaN</td>\n",
        "      <td>NaN</td>\n",
        "      <td>  1</td>\n",
        "      <td>NaN</td>\n",
        "      <td>NaN</td>\n",
        "      <td>NaN</td>\n",
        "      <td>...</td>\n",
        "      <td> 0</td>\n",
        "      <td> 0</td>\n",
        "      <td> 0</td>\n",
        "      <td> 0</td>\n",
        "      <td> 2957.257457</td>\n",
        "      <td> 3404.403067</td>\n",
        "      <td>  4153.371741</td>\n",
        "      <td> 2</td>\n",
        "      <td> 14</td>\n",
        "      <td> 1230</td>\n",
        "    </tr>\n",
        "    <tr>\n",
        "      <th>19   </th>\n",
        "      <td>    21</td>\n",
        "      <td> 1</td>\n",
        "      <td>NaN</td>\n",
        "      <td>NaN</td>\n",
        "      <td>NaN</td>\n",
        "      <td>NaN</td>\n",
        "      <td>  6</td>\n",
        "      <td>NaN</td>\n",
        "      <td>  1</td>\n",
        "      <td>NaN</td>\n",
        "      <td>...</td>\n",
        "      <td> 0</td>\n",
        "      <td> 0</td>\n",
        "      <td> 0</td>\n",
        "      <td> 0</td>\n",
        "      <td> 3408.342437</td>\n",
        "      <td> 3965.763949</td>\n",
        "      <td>  7237.122630</td>\n",
        "      <td> 1</td>\n",
        "      <td> 48</td>\n",
        "      <td> 1233</td>\n",
        "    </tr>\n",
        "    <tr>\n",
        "      <th>20   </th>\n",
        "      <td>    21</td>\n",
        "      <td> 2</td>\n",
        "      <td>NaN</td>\n",
        "      <td>NaN</td>\n",
        "      <td>NaN</td>\n",
        "      <td>NaN</td>\n",
        "      <td>  6</td>\n",
        "      <td>NaN</td>\n",
        "      <td>  1</td>\n",
        "      <td>NaN</td>\n",
        "      <td>...</td>\n",
        "      <td> 0</td>\n",
        "      <td> 0</td>\n",
        "      <td> 0</td>\n",
        "      <td> 0</td>\n",
        "      <td> 3408.342437</td>\n",
        "      <td> 3965.763949</td>\n",
        "      <td>  7237.122630</td>\n",
        "      <td> 1</td>\n",
        "      <td> 48</td>\n",
        "      <td> 1233</td>\n",
        "    </tr>\n",
        "    <tr>\n",
        "      <th>21   </th>\n",
        "      <td>    23</td>\n",
        "      <td> 1</td>\n",
        "      <td>NaN</td>\n",
        "      <td>NaN</td>\n",
        "      <td>NaN</td>\n",
        "      <td>NaN</td>\n",
        "      <td>  6</td>\n",
        "      <td>NaN</td>\n",
        "      <td>  1</td>\n",
        "      <td>NaN</td>\n",
        "      <td>...</td>\n",
        "      <td> 0</td>\n",
        "      <td> 0</td>\n",
        "      <td> 0</td>\n",
        "      <td> 0</td>\n",
        "      <td> 6210.373020</td>\n",
        "      <td> 8120.841310</td>\n",
        "      <td> 13533.382043</td>\n",
        "      <td> 2</td>\n",
        "      <td> 64</td>\n",
        "      <td> 1234</td>\n",
        "    </tr>\n",
        "    <tr>\n",
        "      <th>22   </th>\n",
        "      <td>    23</td>\n",
        "      <td> 2</td>\n",
        "      <td>NaN</td>\n",
        "      <td>NaN</td>\n",
        "      <td>NaN</td>\n",
        "      <td>NaN</td>\n",
        "      <td>  1</td>\n",
        "      <td>NaN</td>\n",
        "      <td>NaN</td>\n",
        "      <td>NaN</td>\n",
        "      <td>...</td>\n",
        "      <td> 0</td>\n",
        "      <td> 0</td>\n",
        "      <td> 0</td>\n",
        "      <td> 0</td>\n",
        "      <td> 6210.373020</td>\n",
        "      <td> 8120.841310</td>\n",
        "      <td> 13533.382043</td>\n",
        "      <td> 2</td>\n",
        "      <td> 64</td>\n",
        "      <td> 1234</td>\n",
        "    </tr>\n",
        "    <tr>\n",
        "      <th>23   </th>\n",
        "      <td>    24</td>\n",
        "      <td> 1</td>\n",
        "      <td>NaN</td>\n",
        "      <td>NaN</td>\n",
        "      <td>NaN</td>\n",
        "      <td>NaN</td>\n",
        "      <td>  6</td>\n",
        "      <td>NaN</td>\n",
        "      <td>  1</td>\n",
        "      <td>NaN</td>\n",
        "      <td>...</td>\n",
        "      <td> 0</td>\n",
        "      <td> 0</td>\n",
        "      <td> 0</td>\n",
        "      <td> 0</td>\n",
        "      <td> 3409.573258</td>\n",
        "      <td> 4068.628645</td>\n",
        "      <td>  7424.840414</td>\n",
        "      <td> 1</td>\n",
        "      <td> 27</td>\n",
        "      <td> 1232</td>\n",
        "    </tr>\n",
        "    <tr>\n",
        "      <th>24   </th>\n",
        "      <td>    24</td>\n",
        "      <td> 2</td>\n",
        "      <td>NaN</td>\n",
        "      <td>NaN</td>\n",
        "      <td>NaN</td>\n",
        "      <td>NaN</td>\n",
        "      <td>  6</td>\n",
        "      <td>NaN</td>\n",
        "      <td>  1</td>\n",
        "      <td>NaN</td>\n",
        "      <td>...</td>\n",
        "      <td> 0</td>\n",
        "      <td> 0</td>\n",
        "      <td> 0</td>\n",
        "      <td> 0</td>\n",
        "      <td> 3409.573258</td>\n",
        "      <td> 4068.628645</td>\n",
        "      <td>  7424.840414</td>\n",
        "      <td> 1</td>\n",
        "      <td> 27</td>\n",
        "      <td> 1232</td>\n",
        "    </tr>\n",
        "    <tr>\n",
        "      <th>25   </th>\n",
        "      <td>    24</td>\n",
        "      <td> 3</td>\n",
        "      <td>NaN</td>\n",
        "      <td>NaN</td>\n",
        "      <td>NaN</td>\n",
        "      <td>NaN</td>\n",
        "      <td>  6</td>\n",
        "      <td>NaN</td>\n",
        "      <td>  1</td>\n",
        "      <td>NaN</td>\n",
        "      <td>...</td>\n",
        "      <td> 0</td>\n",
        "      <td> 0</td>\n",
        "      <td> 0</td>\n",
        "      <td> 0</td>\n",
        "      <td> 3409.573258</td>\n",
        "      <td> 4068.628645</td>\n",
        "      <td>  7424.840414</td>\n",
        "      <td> 1</td>\n",
        "      <td> 27</td>\n",
        "      <td> 1232</td>\n",
        "    </tr>\n",
        "    <tr>\n",
        "      <th>26   </th>\n",
        "      <td>    28</td>\n",
        "      <td> 1</td>\n",
        "      <td>NaN</td>\n",
        "      <td>NaN</td>\n",
        "      <td>NaN</td>\n",
        "      <td>NaN</td>\n",
        "      <td>  6</td>\n",
        "      <td>NaN</td>\n",
        "      <td>  1</td>\n",
        "      <td>NaN</td>\n",
        "      <td>...</td>\n",
        "      <td> 0</td>\n",
        "      <td> 0</td>\n",
        "      <td> 0</td>\n",
        "      <td> 0</td>\n",
        "      <td> 3407.794208</td>\n",
        "      <td> 3808.343516</td>\n",
        "      <td>  6949.846082</td>\n",
        "      <td> 2</td>\n",
        "      <td> 57</td>\n",
        "      <td> 1229</td>\n",
        "    </tr>\n",
        "    <tr>\n",
        "      <th>27   </th>\n",
        "      <td>    31</td>\n",
        "      <td> 1</td>\n",
        "      <td>NaN</td>\n",
        "      <td>NaN</td>\n",
        "      <td>NaN</td>\n",
        "      <td>NaN</td>\n",
        "      <td>  6</td>\n",
        "      <td>NaN</td>\n",
        "      <td>  1</td>\n",
        "      <td>NaN</td>\n",
        "      <td>...</td>\n",
        "      <td> 0</td>\n",
        "      <td> 0</td>\n",
        "      <td> 0</td>\n",
        "      <td> 0</td>\n",
        "      <td> 3405.679025</td>\n",
        "      <td> 4272.084519</td>\n",
        "      <td>  5211.943113</td>\n",
        "      <td> 1</td>\n",
        "      <td>  2</td>\n",
        "      <td> 1235</td>\n",
        "    </tr>\n",
        "    <tr>\n",
        "      <th>28   </th>\n",
        "      <td>    31</td>\n",
        "      <td> 2</td>\n",
        "      <td>NaN</td>\n",
        "      <td>NaN</td>\n",
        "      <td>NaN</td>\n",
        "      <td>NaN</td>\n",
        "      <td>  6</td>\n",
        "      <td>NaN</td>\n",
        "      <td>  1</td>\n",
        "      <td>NaN</td>\n",
        "      <td>...</td>\n",
        "      <td> 0</td>\n",
        "      <td> 0</td>\n",
        "      <td> 0</td>\n",
        "      <td> 0</td>\n",
        "      <td> 3405.679025</td>\n",
        "      <td> 4272.084519</td>\n",
        "      <td>  5211.943113</td>\n",
        "      <td> 1</td>\n",
        "      <td>  2</td>\n",
        "      <td> 1235</td>\n",
        "    </tr>\n",
        "    <tr>\n",
        "      <th>29   </th>\n",
        "      <td>    31</td>\n",
        "      <td> 3</td>\n",
        "      <td>NaN</td>\n",
        "      <td>NaN</td>\n",
        "      <td>NaN</td>\n",
        "      <td>NaN</td>\n",
        "      <td>  6</td>\n",
        "      <td>NaN</td>\n",
        "      <td>  1</td>\n",
        "      <td>NaN</td>\n",
        "      <td>...</td>\n",
        "      <td> 0</td>\n",
        "      <td> 0</td>\n",
        "      <td> 0</td>\n",
        "      <td> 0</td>\n",
        "      <td> 3405.679025</td>\n",
        "      <td> 4272.084519</td>\n",
        "      <td>  5211.943113</td>\n",
        "      <td> 1</td>\n",
        "      <td>  2</td>\n",
        "      <td> 1235</td>\n",
        "    </tr>\n",
        "    <tr>\n",
        "      <th>...</th>\n",
        "      <td>...</td>\n",
        "      <td>...</td>\n",
        "      <td>...</td>\n",
        "      <td>...</td>\n",
        "      <td>...</td>\n",
        "      <td>...</td>\n",
        "      <td>...</td>\n",
        "      <td>...</td>\n",
        "      <td>...</td>\n",
        "      <td>...</td>\n",
        "      <td>...</td>\n",
        "      <td>...</td>\n",
        "      <td>...</td>\n",
        "      <td>...</td>\n",
        "      <td>...</td>\n",
        "      <td>...</td>\n",
        "      <td>...</td>\n",
        "      <td>...</td>\n",
        "      <td>...</td>\n",
        "      <td>...</td>\n",
        "      <td>...</td>\n",
        "    </tr>\n",
        "    <tr>\n",
        "      <th>13563</th>\n",
        "      <td> 12547</td>\n",
        "      <td> 2</td>\n",
        "      <td>NaN</td>\n",
        "      <td>NaN</td>\n",
        "      <td>NaN</td>\n",
        "      <td>NaN</td>\n",
        "      <td>  6</td>\n",
        "      <td>NaN</td>\n",
        "      <td>  1</td>\n",
        "      <td>NaN</td>\n",
        "      <td>...</td>\n",
        "      <td> 0</td>\n",
        "      <td> 0</td>\n",
        "      <td> 0</td>\n",
        "      <td> 0</td>\n",
        "      <td> 3453.545517</td>\n",
        "      <td> 6628.022524</td>\n",
        "      <td> 11499.619080</td>\n",
        "      <td> 1</td>\n",
        "      <td> 52</td>\n",
        "      <td> 1233</td>\n",
        "    </tr>\n",
        "    <tr>\n",
        "      <th>13564</th>\n",
        "      <td> 12547</td>\n",
        "      <td> 3</td>\n",
        "      <td>NaN</td>\n",
        "      <td>NaN</td>\n",
        "      <td>NaN</td>\n",
        "      <td>NaN</td>\n",
        "      <td>  6</td>\n",
        "      <td>NaN</td>\n",
        "      <td>  1</td>\n",
        "      <td>NaN</td>\n",
        "      <td>...</td>\n",
        "      <td> 0</td>\n",
        "      <td> 0</td>\n",
        "      <td> 0</td>\n",
        "      <td> 0</td>\n",
        "      <td> 3453.545517</td>\n",
        "      <td> 6628.022524</td>\n",
        "      <td> 11499.619080</td>\n",
        "      <td> 1</td>\n",
        "      <td> 52</td>\n",
        "      <td> 1233</td>\n",
        "    </tr>\n",
        "    <tr>\n",
        "      <th>13565</th>\n",
        "      <td> 12550</td>\n",
        "      <td> 1</td>\n",
        "      <td>NaN</td>\n",
        "      <td>NaN</td>\n",
        "      <td>NaN</td>\n",
        "      <td>NaN</td>\n",
        "      <td>  6</td>\n",
        "      <td>NaN</td>\n",
        "      <td>  1</td>\n",
        "      <td>NaN</td>\n",
        "      <td>...</td>\n",
        "      <td> 0</td>\n",
        "      <td> 0</td>\n",
        "      <td> 0</td>\n",
        "      <td> 0</td>\n",
        "      <td> 3080.452699</td>\n",
        "      <td> 3745.326058</td>\n",
        "      <td>  5268.550165</td>\n",
        "      <td> 1</td>\n",
        "      <td> 79</td>\n",
        "      <td> 1235</td>\n",
        "    </tr>\n",
        "    <tr>\n",
        "      <th>13566</th>\n",
        "      <td> 12551</td>\n",
        "      <td> 1</td>\n",
        "      <td>NaN</td>\n",
        "      <td>NaN</td>\n",
        "      <td>NaN</td>\n",
        "      <td>NaN</td>\n",
        "      <td>  5</td>\n",
        "      <td>NaN</td>\n",
        "      <td>  1</td>\n",
        "      <td>NaN</td>\n",
        "      <td>...</td>\n",
        "      <td> 0</td>\n",
        "      <td> 0</td>\n",
        "      <td> 0</td>\n",
        "      <td> 0</td>\n",
        "      <td> 2418.538866</td>\n",
        "      <td> 3653.453268</td>\n",
        "      <td>  3951.940400</td>\n",
        "      <td> 2</td>\n",
        "      <td> 75</td>\n",
        "      <td> 1235</td>\n",
        "    </tr>\n",
        "    <tr>\n",
        "      <th>13567</th>\n",
        "      <td> 12554</td>\n",
        "      <td> 1</td>\n",
        "      <td>NaN</td>\n",
        "      <td>NaN</td>\n",
        "      <td>NaN</td>\n",
        "      <td>NaN</td>\n",
        "      <td>  3</td>\n",
        "      <td>NaN</td>\n",
        "      <td>NaN</td>\n",
        "      <td>NaN</td>\n",
        "      <td>...</td>\n",
        "      <td> 0</td>\n",
        "      <td> 0</td>\n",
        "      <td> 0</td>\n",
        "      <td> 0</td>\n",
        "      <td> 1914.676604</td>\n",
        "      <td> 2177.957240</td>\n",
        "      <td>  2764.045534</td>\n",
        "      <td> 2</td>\n",
        "      <td> 75</td>\n",
        "      <td> 1231</td>\n",
        "    </tr>\n",
        "    <tr>\n",
        "      <th>13568</th>\n",
        "      <td> 12554</td>\n",
        "      <td> 2</td>\n",
        "      <td>NaN</td>\n",
        "      <td>NaN</td>\n",
        "      <td>NaN</td>\n",
        "      <td>NaN</td>\n",
        "      <td>  4</td>\n",
        "      <td>NaN</td>\n",
        "      <td>NaN</td>\n",
        "      <td>NaN</td>\n",
        "      <td>...</td>\n",
        "      <td> 0</td>\n",
        "      <td> 0</td>\n",
        "      <td> 0</td>\n",
        "      <td> 0</td>\n",
        "      <td> 1914.676604</td>\n",
        "      <td> 2177.957240</td>\n",
        "      <td>  2764.045534</td>\n",
        "      <td> 2</td>\n",
        "      <td> 75</td>\n",
        "      <td> 1231</td>\n",
        "    </tr>\n",
        "    <tr>\n",
        "      <th>13569</th>\n",
        "      <td> 12556</td>\n",
        "      <td> 1</td>\n",
        "      <td>NaN</td>\n",
        "      <td>NaN</td>\n",
        "      <td>NaN</td>\n",
        "      <td>NaN</td>\n",
        "      <td>  6</td>\n",
        "      <td>NaN</td>\n",
        "      <td>  1</td>\n",
        "      <td>NaN</td>\n",
        "      <td>...</td>\n",
        "      <td> 0</td>\n",
        "      <td> 0</td>\n",
        "      <td> 0</td>\n",
        "      <td> 0</td>\n",
        "      <td> 2474.619764</td>\n",
        "      <td> 3250.573384</td>\n",
        "      <td>  3965.699528</td>\n",
        "      <td> 1</td>\n",
        "      <td> 44</td>\n",
        "      <td> 1236</td>\n",
        "    </tr>\n",
        "    <tr>\n",
        "      <th>13570</th>\n",
        "      <td> 12556</td>\n",
        "      <td> 2</td>\n",
        "      <td>NaN</td>\n",
        "      <td>NaN</td>\n",
        "      <td>NaN</td>\n",
        "      <td>NaN</td>\n",
        "      <td>  6</td>\n",
        "      <td>NaN</td>\n",
        "      <td>  1</td>\n",
        "      <td>NaN</td>\n",
        "      <td>...</td>\n",
        "      <td> 0</td>\n",
        "      <td> 0</td>\n",
        "      <td> 0</td>\n",
        "      <td> 0</td>\n",
        "      <td> 2474.619764</td>\n",
        "      <td> 3250.573384</td>\n",
        "      <td>  3965.699528</td>\n",
        "      <td> 1</td>\n",
        "      <td> 44</td>\n",
        "      <td> 1236</td>\n",
        "    </tr>\n",
        "    <tr>\n",
        "      <th>13571</th>\n",
        "      <td> 12556</td>\n",
        "      <td> 3</td>\n",
        "      <td>NaN</td>\n",
        "      <td>NaN</td>\n",
        "      <td>NaN</td>\n",
        "      <td>NaN</td>\n",
        "      <td>  6</td>\n",
        "      <td>NaN</td>\n",
        "      <td>  1</td>\n",
        "      <td>NaN</td>\n",
        "      <td>...</td>\n",
        "      <td> 0</td>\n",
        "      <td> 0</td>\n",
        "      <td> 0</td>\n",
        "      <td> 0</td>\n",
        "      <td> 2474.619764</td>\n",
        "      <td> 3250.573384</td>\n",
        "      <td>  3965.699528</td>\n",
        "      <td> 1</td>\n",
        "      <td> 44</td>\n",
        "      <td> 1236</td>\n",
        "    </tr>\n",
        "    <tr>\n",
        "      <th>13572</th>\n",
        "      <td> 12556</td>\n",
        "      <td> 4</td>\n",
        "      <td>NaN</td>\n",
        "      <td>NaN</td>\n",
        "      <td>NaN</td>\n",
        "      <td>NaN</td>\n",
        "      <td>  6</td>\n",
        "      <td>NaN</td>\n",
        "      <td>  1</td>\n",
        "      <td>NaN</td>\n",
        "      <td>...</td>\n",
        "      <td> 0</td>\n",
        "      <td> 0</td>\n",
        "      <td> 0</td>\n",
        "      <td> 0</td>\n",
        "      <td> 2474.619764</td>\n",
        "      <td> 3250.573384</td>\n",
        "      <td>  3965.699528</td>\n",
        "      <td> 1</td>\n",
        "      <td> 44</td>\n",
        "      <td> 1236</td>\n",
        "    </tr>\n",
        "    <tr>\n",
        "      <th>13573</th>\n",
        "      <td> 12561</td>\n",
        "      <td> 1</td>\n",
        "      <td>NaN</td>\n",
        "      <td>NaN</td>\n",
        "      <td>NaN</td>\n",
        "      <td>NaN</td>\n",
        "      <td>  6</td>\n",
        "      <td>NaN</td>\n",
        "      <td>  1</td>\n",
        "      <td>NaN</td>\n",
        "      <td>...</td>\n",
        "      <td> 0</td>\n",
        "      <td> 0</td>\n",
        "      <td> 0</td>\n",
        "      <td> 0</td>\n",
        "      <td> 2418.089703</td>\n",
        "      <td> 2698.650781</td>\n",
        "      <td>  4497.301527</td>\n",
        "      <td> 1</td>\n",
        "      <td> 10</td>\n",
        "      <td> 1231</td>\n",
        "    </tr>\n",
        "    <tr>\n",
        "      <th>13574</th>\n",
        "      <td> 12561</td>\n",
        "      <td> 2</td>\n",
        "      <td>NaN</td>\n",
        "      <td>NaN</td>\n",
        "      <td>NaN</td>\n",
        "      <td>NaN</td>\n",
        "      <td>  6</td>\n",
        "      <td>NaN</td>\n",
        "      <td>  1</td>\n",
        "      <td>NaN</td>\n",
        "      <td>...</td>\n",
        "      <td> 0</td>\n",
        "      <td> 0</td>\n",
        "      <td> 0</td>\n",
        "      <td> 0</td>\n",
        "      <td> 2418.089703</td>\n",
        "      <td> 2698.650781</td>\n",
        "      <td>  4497.301527</td>\n",
        "      <td> 1</td>\n",
        "      <td> 10</td>\n",
        "      <td> 1231</td>\n",
        "    </tr>\n",
        "    <tr>\n",
        "      <th>13575</th>\n",
        "      <td> 12564</td>\n",
        "      <td> 1</td>\n",
        "      <td>NaN</td>\n",
        "      <td>NaN</td>\n",
        "      <td>NaN</td>\n",
        "      <td>NaN</td>\n",
        "      <td>  3</td>\n",
        "      <td>NaN</td>\n",
        "      <td>NaN</td>\n",
        "      <td>NaN</td>\n",
        "      <td>...</td>\n",
        "      <td> 1</td>\n",
        "      <td> 0</td>\n",
        "      <td> 0</td>\n",
        "      <td> 0</td>\n",
        "      <td> 1820.850938</td>\n",
        "      <td> 2129.214067</td>\n",
        "      <td>  2768.191208</td>\n",
        "      <td> 2</td>\n",
        "      <td> 44</td>\n",
        "      <td> 1230</td>\n",
        "    </tr>\n",
        "    <tr>\n",
        "      <th>13576</th>\n",
        "      <td> 12565</td>\n",
        "      <td> 1</td>\n",
        "      <td>NaN</td>\n",
        "      <td>NaN</td>\n",
        "      <td>NaN</td>\n",
        "      <td>NaN</td>\n",
        "      <td>  6</td>\n",
        "      <td>NaN</td>\n",
        "      <td>  1</td>\n",
        "      <td>NaN</td>\n",
        "      <td>...</td>\n",
        "      <td> 0</td>\n",
        "      <td> 0</td>\n",
        "      <td> 0</td>\n",
        "      <td> 0</td>\n",
        "      <td> 3195.641221</td>\n",
        "      <td> 3834.241709</td>\n",
        "      <td>  6652.409365</td>\n",
        "      <td> 1</td>\n",
        "      <td> 78</td>\n",
        "      <td> 1236</td>\n",
        "    </tr>\n",
        "    <tr>\n",
        "      <th>13577</th>\n",
        "      <td> 12565</td>\n",
        "      <td> 2</td>\n",
        "      <td> 35</td>\n",
        "      <td>  1</td>\n",
        "      <td>  8</td>\n",
        "      <td>NaN</td>\n",
        "      <td>NaN</td>\n",
        "      <td>NaN</td>\n",
        "      <td>NaN</td>\n",
        "      <td>NaN</td>\n",
        "      <td>...</td>\n",
        "      <td> 0</td>\n",
        "      <td> 0</td>\n",
        "      <td> 0</td>\n",
        "      <td> 0</td>\n",
        "      <td> 3195.641221</td>\n",
        "      <td> 3834.241709</td>\n",
        "      <td>  6652.409365</td>\n",
        "      <td> 1</td>\n",
        "      <td> 78</td>\n",
        "      <td> 1236</td>\n",
        "    </tr>\n",
        "    <tr>\n",
        "      <th>13578</th>\n",
        "      <td> 12566</td>\n",
        "      <td> 1</td>\n",
        "      <td>NaN</td>\n",
        "      <td>NaN</td>\n",
        "      <td>NaN</td>\n",
        "      <td>NaN</td>\n",
        "      <td>  6</td>\n",
        "      <td>NaN</td>\n",
        "      <td>  1</td>\n",
        "      <td>NaN</td>\n",
        "      <td>...</td>\n",
        "      <td> 0</td>\n",
        "      <td> 0</td>\n",
        "      <td> 0</td>\n",
        "      <td> 0</td>\n",
        "      <td> 2080.317155</td>\n",
        "      <td> 2422.820274</td>\n",
        "      <td>  2627.548587</td>\n",
        "      <td> 2</td>\n",
        "      <td>  2</td>\n",
        "      <td> 1235</td>\n",
        "    </tr>\n",
        "    <tr>\n",
        "      <th>13579</th>\n",
        "      <td> 12566</td>\n",
        "      <td> 2</td>\n",
        "      <td>NaN</td>\n",
        "      <td>NaN</td>\n",
        "      <td>NaN</td>\n",
        "      <td>NaN</td>\n",
        "      <td>  6</td>\n",
        "      <td>NaN</td>\n",
        "      <td>  1</td>\n",
        "      <td>NaN</td>\n",
        "      <td>...</td>\n",
        "      <td> 0</td>\n",
        "      <td> 0</td>\n",
        "      <td> 0</td>\n",
        "      <td> 0</td>\n",
        "      <td> 2080.317155</td>\n",
        "      <td> 2422.820274</td>\n",
        "      <td>  2627.548587</td>\n",
        "      <td> 2</td>\n",
        "      <td>  2</td>\n",
        "      <td> 1235</td>\n",
        "    </tr>\n",
        "    <tr>\n",
        "      <th>13580</th>\n",
        "      <td> 12568</td>\n",
        "      <td> 1</td>\n",
        "      <td>NaN</td>\n",
        "      <td>NaN</td>\n",
        "      <td>NaN</td>\n",
        "      <td>NaN</td>\n",
        "      <td>  1</td>\n",
        "      <td>NaN</td>\n",
        "      <td>NaN</td>\n",
        "      <td>NaN</td>\n",
        "      <td>...</td>\n",
        "      <td> 0</td>\n",
        "      <td> 0</td>\n",
        "      <td> 0</td>\n",
        "      <td> 0</td>\n",
        "      <td> 2734.687353</td>\n",
        "      <td> 4258.980140</td>\n",
        "      <td>  7772.212858</td>\n",
        "      <td> 2</td>\n",
        "      <td> 28</td>\n",
        "      <td> 1234</td>\n",
        "    </tr>\n",
        "    <tr>\n",
        "      <th>13581</th>\n",
        "      <td> 12568</td>\n",
        "      <td> 2</td>\n",
        "      <td>NaN</td>\n",
        "      <td>NaN</td>\n",
        "      <td>NaN</td>\n",
        "      <td>NaN</td>\n",
        "      <td>  5</td>\n",
        "      <td>NaN</td>\n",
        "      <td>  1</td>\n",
        "      <td>NaN</td>\n",
        "      <td>...</td>\n",
        "      <td> 0</td>\n",
        "      <td> 0</td>\n",
        "      <td> 0</td>\n",
        "      <td> 0</td>\n",
        "      <td> 2734.687353</td>\n",
        "      <td> 4258.980140</td>\n",
        "      <td>  7772.212858</td>\n",
        "      <td> 2</td>\n",
        "      <td> 28</td>\n",
        "      <td> 1234</td>\n",
        "    </tr>\n",
        "    <tr>\n",
        "      <th>13582</th>\n",
        "      <td> 12568</td>\n",
        "      <td> 3</td>\n",
        "      <td>NaN</td>\n",
        "      <td>NaN</td>\n",
        "      <td>NaN</td>\n",
        "      <td>NaN</td>\n",
        "      <td>  4</td>\n",
        "      <td>NaN</td>\n",
        "      <td>NaN</td>\n",
        "      <td>NaN</td>\n",
        "      <td>...</td>\n",
        "      <td> 0</td>\n",
        "      <td> 0</td>\n",
        "      <td> 0</td>\n",
        "      <td> 0</td>\n",
        "      <td> 2734.687353</td>\n",
        "      <td> 4258.980140</td>\n",
        "      <td>  7772.212858</td>\n",
        "      <td> 2</td>\n",
        "      <td> 28</td>\n",
        "      <td> 1234</td>\n",
        "    </tr>\n",
        "    <tr>\n",
        "      <th>13583</th>\n",
        "      <td> 12569</td>\n",
        "      <td> 1</td>\n",
        "      <td>NaN</td>\n",
        "      <td>NaN</td>\n",
        "      <td>NaN</td>\n",
        "      <td>NaN</td>\n",
        "      <td>  3</td>\n",
        "      <td>NaN</td>\n",
        "      <td>NaN</td>\n",
        "      <td>NaN</td>\n",
        "      <td>...</td>\n",
        "      <td> 0</td>\n",
        "      <td> 0</td>\n",
        "      <td> 0</td>\n",
        "      <td> 0</td>\n",
        "      <td> 2580.967613</td>\n",
        "      <td> 2925.167116</td>\n",
        "      <td>  5075.164946</td>\n",
        "      <td> 2</td>\n",
        "      <td> 61</td>\n",
        "      <td> 1234</td>\n",
        "    </tr>\n",
        "    <tr>\n",
        "      <th>13584</th>\n",
        "      <td> 12569</td>\n",
        "      <td> 2</td>\n",
        "      <td>NaN</td>\n",
        "      <td>NaN</td>\n",
        "      <td>NaN</td>\n",
        "      <td>NaN</td>\n",
        "      <td>  6</td>\n",
        "      <td>NaN</td>\n",
        "      <td>  1</td>\n",
        "      <td>NaN</td>\n",
        "      <td>...</td>\n",
        "      <td> 0</td>\n",
        "      <td> 0</td>\n",
        "      <td> 0</td>\n",
        "      <td> 0</td>\n",
        "      <td> 2580.967613</td>\n",
        "      <td> 2925.167116</td>\n",
        "      <td>  5075.164946</td>\n",
        "      <td> 2</td>\n",
        "      <td> 61</td>\n",
        "      <td> 1234</td>\n",
        "    </tr>\n",
        "    <tr>\n",
        "      <th>13585</th>\n",
        "      <td> 12570</td>\n",
        "      <td> 1</td>\n",
        "      <td>NaN</td>\n",
        "      <td>NaN</td>\n",
        "      <td>NaN</td>\n",
        "      <td>NaN</td>\n",
        "      <td>  3</td>\n",
        "      <td>NaN</td>\n",
        "      <td>NaN</td>\n",
        "      <td>NaN</td>\n",
        "      <td>...</td>\n",
        "      <td> 0</td>\n",
        "      <td> 0</td>\n",
        "      <td> 0</td>\n",
        "      <td> 0</td>\n",
        "      <td> 5181.311509</td>\n",
        "      <td> 6205.829154</td>\n",
        "      <td> 11325.017623</td>\n",
        "      <td> 2</td>\n",
        "      <td> 40</td>\n",
        "      <td> 1236</td>\n",
        "    </tr>\n",
        "    <tr>\n",
        "      <th>13586</th>\n",
        "      <td> 12570</td>\n",
        "      <td> 2</td>\n",
        "      <td>NaN</td>\n",
        "      <td>NaN</td>\n",
        "      <td>NaN</td>\n",
        "      <td>NaN</td>\n",
        "      <td>  3</td>\n",
        "      <td>NaN</td>\n",
        "      <td>NaN</td>\n",
        "      <td>NaN</td>\n",
        "      <td>...</td>\n",
        "      <td> 0</td>\n",
        "      <td> 0</td>\n",
        "      <td> 0</td>\n",
        "      <td> 0</td>\n",
        "      <td> 5181.311509</td>\n",
        "      <td> 6205.829154</td>\n",
        "      <td> 11325.017623</td>\n",
        "      <td> 2</td>\n",
        "      <td> 40</td>\n",
        "      <td> 1236</td>\n",
        "    </tr>\n",
        "    <tr>\n",
        "      <th>13587</th>\n",
        "      <td> 12570</td>\n",
        "      <td> 3</td>\n",
        "      <td>NaN</td>\n",
        "      <td>NaN</td>\n",
        "      <td>NaN</td>\n",
        "      <td>NaN</td>\n",
        "      <td>  3</td>\n",
        "      <td>NaN</td>\n",
        "      <td>NaN</td>\n",
        "      <td>NaN</td>\n",
        "      <td>...</td>\n",
        "      <td> 0</td>\n",
        "      <td> 0</td>\n",
        "      <td> 0</td>\n",
        "      <td> 0</td>\n",
        "      <td> 5181.311509</td>\n",
        "      <td> 6205.829154</td>\n",
        "      <td> 11325.017623</td>\n",
        "      <td> 2</td>\n",
        "      <td> 40</td>\n",
        "      <td> 1236</td>\n",
        "    </tr>\n",
        "    <tr>\n",
        "      <th>13588</th>\n",
        "      <td> 12571</td>\n",
        "      <td> 1</td>\n",
        "      <td>NaN</td>\n",
        "      <td>NaN</td>\n",
        "      <td>NaN</td>\n",
        "      <td>NaN</td>\n",
        "      <td>  6</td>\n",
        "      <td>NaN</td>\n",
        "      <td>  1</td>\n",
        "      <td>NaN</td>\n",
        "      <td>...</td>\n",
        "      <td> 0</td>\n",
        "      <td> 0</td>\n",
        "      <td> 0</td>\n",
        "      <td> 0</td>\n",
        "      <td> 4670.540953</td>\n",
        "      <td> 5795.692880</td>\n",
        "      <td>  6269.200989</td>\n",
        "      <td> 1</td>\n",
        "      <td> 78</td>\n",
        "      <td> 1227</td>\n",
        "    </tr>\n",
        "    <tr>\n",
        "      <th>13589</th>\n",
        "      <td> 12571</td>\n",
        "      <td> 2</td>\n",
        "      <td>NaN</td>\n",
        "      <td>NaN</td>\n",
        "      <td>NaN</td>\n",
        "      <td>NaN</td>\n",
        "      <td>  3</td>\n",
        "      <td>NaN</td>\n",
        "      <td>NaN</td>\n",
        "      <td>NaN</td>\n",
        "      <td>...</td>\n",
        "      <td> 0</td>\n",
        "      <td> 0</td>\n",
        "      <td> 0</td>\n",
        "      <td> 0</td>\n",
        "      <td> 4670.540953</td>\n",
        "      <td> 5795.692880</td>\n",
        "      <td>  6269.200989</td>\n",
        "      <td> 1</td>\n",
        "      <td> 78</td>\n",
        "      <td> 1227</td>\n",
        "    </tr>\n",
        "    <tr>\n",
        "      <th>13590</th>\n",
        "      <td> 12571</td>\n",
        "      <td> 3</td>\n",
        "      <td>NaN</td>\n",
        "      <td>NaN</td>\n",
        "      <td>NaN</td>\n",
        "      <td>NaN</td>\n",
        "      <td>  3</td>\n",
        "      <td>NaN</td>\n",
        "      <td>NaN</td>\n",
        "      <td>NaN</td>\n",
        "      <td>...</td>\n",
        "      <td> 0</td>\n",
        "      <td> 0</td>\n",
        "      <td> 0</td>\n",
        "      <td> 0</td>\n",
        "      <td> 4670.540953</td>\n",
        "      <td> 5795.692880</td>\n",
        "      <td>  6269.200989</td>\n",
        "      <td> 1</td>\n",
        "      <td> 78</td>\n",
        "      <td> 1227</td>\n",
        "    </tr>\n",
        "    <tr>\n",
        "      <th>13591</th>\n",
        "      <td> 12571</td>\n",
        "      <td> 4</td>\n",
        "      <td>NaN</td>\n",
        "      <td>NaN</td>\n",
        "      <td>NaN</td>\n",
        "      <td>NaN</td>\n",
        "      <td>  6</td>\n",
        "      <td>NaN</td>\n",
        "      <td>  1</td>\n",
        "      <td>NaN</td>\n",
        "      <td>...</td>\n",
        "      <td> 0</td>\n",
        "      <td> 0</td>\n",
        "      <td> 0</td>\n",
        "      <td> 0</td>\n",
        "      <td> 4670.540953</td>\n",
        "      <td> 5795.692880</td>\n",
        "      <td>  6269.200989</td>\n",
        "      <td> 1</td>\n",
        "      <td> 78</td>\n",
        "      <td> 1227</td>\n",
        "    </tr>\n",
        "    <tr>\n",
        "      <th>13592</th>\n",
        "      <td> 12571</td>\n",
        "      <td> 5</td>\n",
        "      <td>NaN</td>\n",
        "      <td>NaN</td>\n",
        "      <td>NaN</td>\n",
        "      <td>NaN</td>\n",
        "      <td>  6</td>\n",
        "      <td>NaN</td>\n",
        "      <td>  1</td>\n",
        "      <td>NaN</td>\n",
        "      <td>...</td>\n",
        "      <td> 0</td>\n",
        "      <td> 0</td>\n",
        "      <td> 0</td>\n",
        "      <td> 0</td>\n",
        "      <td> 4670.540953</td>\n",
        "      <td> 5795.692880</td>\n",
        "      <td>  6269.200989</td>\n",
        "      <td> 1</td>\n",
        "      <td> 78</td>\n",
        "      <td> 1227</td>\n",
        "    </tr>\n",
        "  </tbody>\n",
        "</table>\n",
        "<p>13593 rows \u00d7 243 columns</p>\n",
        "</div>"
       ],
       "metadata": {},
       "output_type": "pyout",
       "prompt_number": 322,
       "text": [
        "       caseid  pregordr  howpreg_n  howpreg_p  moscurrp  nowprgdk  pregend1  \\\n",
        "0           1         1        NaN        NaN       NaN       NaN         6   \n",
        "1           1         2        NaN        NaN       NaN       NaN         6   \n",
        "2           2         1        NaN        NaN       NaN       NaN         5   \n",
        "3           2         2        NaN        NaN       NaN       NaN         6   \n",
        "4           2         3        NaN        NaN       NaN       NaN         6   \n",
        "5           6         1        NaN        NaN       NaN       NaN         6   \n",
        "6           6         2        NaN        NaN       NaN       NaN         6   \n",
        "7           6         3        NaN        NaN       NaN       NaN         6   \n",
        "8           7         1        NaN        NaN       NaN       NaN         5   \n",
        "9           7         2        NaN        NaN       NaN       NaN         5   \n",
        "10         12         1        NaN        NaN       NaN       NaN         5   \n",
        "11         14         1        NaN        NaN       NaN       NaN         6   \n",
        "12         14         2        NaN        NaN       NaN       NaN         6   \n",
        "13         14         3        NaN        NaN       NaN       NaN         3   \n",
        "14         15         1        NaN        NaN       NaN       NaN         1   \n",
        "15         15         2        NaN        NaN       NaN       NaN         6   \n",
        "16         15         3        NaN        NaN       NaN       NaN         6   \n",
        "17         18         1        NaN        NaN       NaN       NaN         5   \n",
        "18         18         2        NaN        NaN       NaN       NaN         1   \n",
        "19         21         1        NaN        NaN       NaN       NaN         6   \n",
        "20         21         2        NaN        NaN       NaN       NaN         6   \n",
        "21         23         1        NaN        NaN       NaN       NaN         6   \n",
        "22         23         2        NaN        NaN       NaN       NaN         1   \n",
        "23         24         1        NaN        NaN       NaN       NaN         6   \n",
        "24         24         2        NaN        NaN       NaN       NaN         6   \n",
        "25         24         3        NaN        NaN       NaN       NaN         6   \n",
        "26         28         1        NaN        NaN       NaN       NaN         6   \n",
        "27         31         1        NaN        NaN       NaN       NaN         6   \n",
        "28         31         2        NaN        NaN       NaN       NaN         6   \n",
        "29         31         3        NaN        NaN       NaN       NaN         6   \n",
        "...       ...       ...        ...        ...       ...       ...       ...   \n",
        "13563   12547         2        NaN        NaN       NaN       NaN         6   \n",
        "13564   12547         3        NaN        NaN       NaN       NaN         6   \n",
        "13565   12550         1        NaN        NaN       NaN       NaN         6   \n",
        "13566   12551         1        NaN        NaN       NaN       NaN         5   \n",
        "13567   12554         1        NaN        NaN       NaN       NaN         3   \n",
        "13568   12554         2        NaN        NaN       NaN       NaN         4   \n",
        "13569   12556         1        NaN        NaN       NaN       NaN         6   \n",
        "13570   12556         2        NaN        NaN       NaN       NaN         6   \n",
        "13571   12556         3        NaN        NaN       NaN       NaN         6   \n",
        "13572   12556         4        NaN        NaN       NaN       NaN         6   \n",
        "13573   12561         1        NaN        NaN       NaN       NaN         6   \n",
        "13574   12561         2        NaN        NaN       NaN       NaN         6   \n",
        "13575   12564         1        NaN        NaN       NaN       NaN         3   \n",
        "13576   12565         1        NaN        NaN       NaN       NaN         6   \n",
        "13577   12565         2         35          1         8       NaN       NaN   \n",
        "13578   12566         1        NaN        NaN       NaN       NaN         6   \n",
        "13579   12566         2        NaN        NaN       NaN       NaN         6   \n",
        "13580   12568         1        NaN        NaN       NaN       NaN         1   \n",
        "13581   12568         2        NaN        NaN       NaN       NaN         5   \n",
        "13582   12568         3        NaN        NaN       NaN       NaN         4   \n",
        "13583   12569         1        NaN        NaN       NaN       NaN         3   \n",
        "13584   12569         2        NaN        NaN       NaN       NaN         6   \n",
        "13585   12570         1        NaN        NaN       NaN       NaN         3   \n",
        "13586   12570         2        NaN        NaN       NaN       NaN         3   \n",
        "13587   12570         3        NaN        NaN       NaN       NaN         3   \n",
        "13588   12571         1        NaN        NaN       NaN       NaN         6   \n",
        "13589   12571         2        NaN        NaN       NaN       NaN         3   \n",
        "13590   12571         3        NaN        NaN       NaN       NaN         3   \n",
        "13591   12571         4        NaN        NaN       NaN       NaN         6   \n",
        "13592   12571         5        NaN        NaN       NaN       NaN         6   \n",
        "\n",
        "       pregend2  nbrnaliv  multbrth   ...     poverty_i  laborfor_i  \\\n",
        "0           NaN         1       NaN   ...             0           0   \n",
        "1           NaN         1       NaN   ...             0           0   \n",
        "2           NaN         3         5   ...             0           0   \n",
        "3           NaN         1       NaN   ...             0           0   \n",
        "4           NaN         1       NaN   ...             0           0   \n",
        "5           NaN         1       NaN   ...             0           0   \n",
        "6           NaN         1       NaN   ...             0           0   \n",
        "7           NaN         1       NaN   ...             0           0   \n",
        "8           NaN         1       NaN   ...             0           0   \n",
        "9           NaN         1       NaN   ...             0           0   \n",
        "10          NaN         1       NaN   ...             0           0   \n",
        "11          NaN         1       NaN   ...             0           0   \n",
        "12          NaN         1       NaN   ...             0           0   \n",
        "13          NaN       NaN       NaN   ...             0           0   \n",
        "14          NaN       NaN       NaN   ...             0           0   \n",
        "15          NaN         1       NaN   ...             0           0   \n",
        "16          NaN         1       NaN   ...             0           0   \n",
        "17          NaN         1       NaN   ...             0           0   \n",
        "18          NaN       NaN       NaN   ...             0           0   \n",
        "19          NaN         1       NaN   ...             0           0   \n",
        "20          NaN         1       NaN   ...             0           0   \n",
        "21          NaN         1       NaN   ...             0           0   \n",
        "22          NaN       NaN       NaN   ...             0           0   \n",
        "23          NaN         1       NaN   ...             0           0   \n",
        "24          NaN         1       NaN   ...             0           0   \n",
        "25          NaN         1       NaN   ...             0           0   \n",
        "26          NaN         1       NaN   ...             0           0   \n",
        "27          NaN         1       NaN   ...             0           0   \n",
        "28          NaN         1       NaN   ...             0           0   \n",
        "29          NaN         1       NaN   ...             0           0   \n",
        "...         ...       ...       ...   ...           ...         ...   \n",
        "13563       NaN         1       NaN   ...             0           0   \n",
        "13564       NaN         1       NaN   ...             0           0   \n",
        "13565       NaN         1       NaN   ...             0           0   \n",
        "13566       NaN         1       NaN   ...             0           0   \n",
        "13567       NaN       NaN       NaN   ...             0           0   \n",
        "13568       NaN       NaN       NaN   ...             0           0   \n",
        "13569       NaN         1       NaN   ...             0           0   \n",
        "13570       NaN         1       NaN   ...             0           0   \n",
        "13571       NaN         1       NaN   ...             0           0   \n",
        "13572       NaN         1       NaN   ...             0           0   \n",
        "13573       NaN         1       NaN   ...             0           0   \n",
        "13574       NaN         1       NaN   ...             0           0   \n",
        "13575       NaN       NaN       NaN   ...             1           0   \n",
        "13576       NaN         1       NaN   ...             0           0   \n",
        "13577       NaN       NaN       NaN   ...             0           0   \n",
        "13578       NaN         1       NaN   ...             0           0   \n",
        "13579       NaN         1       NaN   ...             0           0   \n",
        "13580       NaN       NaN       NaN   ...             0           0   \n",
        "13581       NaN         1       NaN   ...             0           0   \n",
        "13582       NaN       NaN       NaN   ...             0           0   \n",
        "13583       NaN       NaN       NaN   ...             0           0   \n",
        "13584       NaN         1       NaN   ...             0           0   \n",
        "13585       NaN       NaN       NaN   ...             0           0   \n",
        "13586       NaN       NaN       NaN   ...             0           0   \n",
        "13587       NaN       NaN       NaN   ...             0           0   \n",
        "13588       NaN         1       NaN   ...             0           0   \n",
        "13589       NaN       NaN       NaN   ...             0           0   \n",
        "13590       NaN       NaN       NaN   ...             0           0   \n",
        "13591       NaN         1       NaN   ...             0           0   \n",
        "13592       NaN         1       NaN   ...             0           0   \n",
        "\n",
        "       religion_i  metro_i      basewgt  adj_mod_basewgt      finalwgt  \\\n",
        "0               0        0  3410.389399      3869.349602   6448.271112   \n",
        "1               0        0  3410.389399      3869.349602   6448.271112   \n",
        "2               0        0  7226.301740      8567.549110  12999.542264   \n",
        "3               0        0  7226.301740      8567.549110  12999.542264   \n",
        "4               0        0  7226.301740      8567.549110  12999.542264   \n",
        "5               0        0  4870.926435      5325.196999   8874.440799   \n",
        "6               0        0  4870.926435      5325.196999   8874.440799   \n",
        "7               0        0  4870.926435      5325.196999   8874.440799   \n",
        "8               0        0  3409.579565      3787.539000   6911.879921   \n",
        "9               0        0  3409.579565      3787.539000   6911.879921   \n",
        "10              0        0  3612.781968      4146.013572   6909.331618   \n",
        "11              0        0  2418.069494      2810.302771   3039.904507   \n",
        "12              0        0  2418.069494      2810.302771   3039.904507   \n",
        "13              0        0  2418.069494      2810.302771   3039.904507   \n",
        "14              0        0  1667.816099      3200.862017   5553.495599   \n",
        "15              0        0  1667.816099      3200.862017   5553.495599   \n",
        "16              0        0  1667.816099      3200.862017   5553.495599   \n",
        "17              0        0  2957.257457      3404.403067   4153.371741   \n",
        "18              0        0  2957.257457      3404.403067   4153.371741   \n",
        "19              0        0  3408.342437      3965.763949   7237.122630   \n",
        "20              0        0  3408.342437      3965.763949   7237.122630   \n",
        "21              0        0  6210.373020      8120.841310  13533.382043   \n",
        "22              0        0  6210.373020      8120.841310  13533.382043   \n",
        "23              0        0  3409.573258      4068.628645   7424.840414   \n",
        "24              0        0  3409.573258      4068.628645   7424.840414   \n",
        "25              0        0  3409.573258      4068.628645   7424.840414   \n",
        "26              0        0  3407.794208      3808.343516   6949.846082   \n",
        "27              0        0  3405.679025      4272.084519   5211.943113   \n",
        "28              0        0  3405.679025      4272.084519   5211.943113   \n",
        "29              0        0  3405.679025      4272.084519   5211.943113   \n",
        "...           ...      ...          ...              ...           ...   \n",
        "13563           0        0  3453.545517      6628.022524  11499.619080   \n",
        "13564           0        0  3453.545517      6628.022524  11499.619080   \n",
        "13565           0        0  3080.452699      3745.326058   5268.550165   \n",
        "13566           0        0  2418.538866      3653.453268   3951.940400   \n",
        "13567           0        0  1914.676604      2177.957240   2764.045534   \n",
        "13568           0        0  1914.676604      2177.957240   2764.045534   \n",
        "13569           0        0  2474.619764      3250.573384   3965.699528   \n",
        "13570           0        0  2474.619764      3250.573384   3965.699528   \n",
        "13571           0        0  2474.619764      3250.573384   3965.699528   \n",
        "13572           0        0  2474.619764      3250.573384   3965.699528   \n",
        "13573           0        0  2418.089703      2698.650781   4497.301527   \n",
        "13574           0        0  2418.089703      2698.650781   4497.301527   \n",
        "13575           0        0  1820.850938      2129.214067   2768.191208   \n",
        "13576           0        0  3195.641221      3834.241709   6652.409365   \n",
        "13577           0        0  3195.641221      3834.241709   6652.409365   \n",
        "13578           0        0  2080.317155      2422.820274   2627.548587   \n",
        "13579           0        0  2080.317155      2422.820274   2627.548587   \n",
        "13580           0        0  2734.687353      4258.980140   7772.212858   \n",
        "13581           0        0  2734.687353      4258.980140   7772.212858   \n",
        "13582           0        0  2734.687353      4258.980140   7772.212858   \n",
        "13583           0        0  2580.967613      2925.167116   5075.164946   \n",
        "13584           0        0  2580.967613      2925.167116   5075.164946   \n",
        "13585           0        0  5181.311509      6205.829154  11325.017623   \n",
        "13586           0        0  5181.311509      6205.829154  11325.017623   \n",
        "13587           0        0  5181.311509      6205.829154  11325.017623   \n",
        "13588           0        0  4670.540953      5795.692880   6269.200989   \n",
        "13589           0        0  4670.540953      5795.692880   6269.200989   \n",
        "13590           0        0  4670.540953      5795.692880   6269.200989   \n",
        "13591           0        0  4670.540953      5795.692880   6269.200989   \n",
        "13592           0        0  4670.540953      5795.692880   6269.200989   \n",
        "\n",
        "       secu_p  sest  cmintvw  \n",
        "0           2     9     1231  \n",
        "1           2     9     1231  \n",
        "2           2    12     1231  \n",
        "3           2    12     1231  \n",
        "4           2    12     1231  \n",
        "5           1    23     1231  \n",
        "6           1    23     1231  \n",
        "7           1    23     1231  \n",
        "8           2    14     1233  \n",
        "9           2    14     1233  \n",
        "10          1    31     1231  \n",
        "11          2    56     1232  \n",
        "12          2    56     1232  \n",
        "13          2    56     1232  \n",
        "14          1    33     1228  \n",
        "15          1    33     1228  \n",
        "16          1    33     1228  \n",
        "17          2    14     1230  \n",
        "18          2    14     1230  \n",
        "19          1    48     1233  \n",
        "20          1    48     1233  \n",
        "21          2    64     1234  \n",
        "22          2    64     1234  \n",
        "23          1    27     1232  \n",
        "24          1    27     1232  \n",
        "25          1    27     1232  \n",
        "26          2    57     1229  \n",
        "27          1     2     1235  \n",
        "28          1     2     1235  \n",
        "29          1     2     1235  \n",
        "...       ...   ...      ...  \n",
        "13563       1    52     1233  \n",
        "13564       1    52     1233  \n",
        "13565       1    79     1235  \n",
        "13566       2    75     1235  \n",
        "13567       2    75     1231  \n",
        "13568       2    75     1231  \n",
        "13569       1    44     1236  \n",
        "13570       1    44     1236  \n",
        "13571       1    44     1236  \n",
        "13572       1    44     1236  \n",
        "13573       1    10     1231  \n",
        "13574       1    10     1231  \n",
        "13575       2    44     1230  \n",
        "13576       1    78     1236  \n",
        "13577       1    78     1236  \n",
        "13578       2     2     1235  \n",
        "13579       2     2     1235  \n",
        "13580       2    28     1234  \n",
        "13581       2    28     1234  \n",
        "13582       2    28     1234  \n",
        "13583       2    61     1234  \n",
        "13584       2    61     1234  \n",
        "13585       2    40     1236  \n",
        "13586       2    40     1236  \n",
        "13587       2    40     1236  \n",
        "13588       1    78     1227  \n",
        "13589       1    78     1227  \n",
        "13590       1    78     1227  \n",
        "13591       1    78     1227  \n",
        "13592       1    78     1227  \n",
        "\n",
        "[13593 rows x 243 columns]"
       ]
      }
     ],
     "prompt_number": 322
    },
    {
     "cell_type": "markdown",
     "metadata": {},
     "source": [
      "The variable `outcome` encodes the outcome of the pregnancy:"
     ]
    },
    {
     "cell_type": "code",
     "collapsed": false,
     "input": [
      "preg.outcome.value_counts().sort_index()"
     ],
     "language": "python",
     "metadata": {},
     "outputs": [
      {
       "metadata": {},
       "output_type": "pyout",
       "prompt_number": 325,
       "text": [
        "1    9148\n",
        "2    1862\n",
        "3     120\n",
        "4    1921\n",
        "5     190\n",
        "6     352\n",
        "dtype: int64"
       ]
      }
     ],
     "prompt_number": 325
    },
    {
     "cell_type": "markdown",
     "metadata": {},
     "source": [
      "`pregorder` is 1 for first pregnancies, 2 for others."
     ]
    },
    {
     "cell_type": "code",
     "collapsed": false,
     "input": [
      "preg.pregordr.value_counts().sort_index()"
     ],
     "language": "python",
     "metadata": {},
     "outputs": [
      {
       "metadata": {},
       "output_type": "pyout",
       "prompt_number": 324,
       "text": [
        "1     5033\n",
        "2     3766\n",
        "3     2334\n",
        "4     1224\n",
        "5      613\n",
        "6      308\n",
        "7      158\n",
        "8       78\n",
        "9       38\n",
        "10      17\n",
        "11       8\n",
        "12       5\n",
        "13       3\n",
        "14       3\n",
        "15       1\n",
        "16       1\n",
        "17       1\n",
        "18       1\n",
        "19       1\n",
        "dtype: int64"
       ]
      }
     ],
     "prompt_number": 324
    },
    {
     "cell_type": "markdown",
     "metadata": {},
     "source": [
      "I selected live births, then split into first babies and others."
     ]
    },
    {
     "cell_type": "code",
     "collapsed": false,
     "input": [
      "live = preg[preg.outcome == 1]\n",
      "firsts = live[live.birthord == 1]\n",
      "others = live[live.birthord != 1]\n",
      "len(firsts), len(others)"
     ],
     "language": "python",
     "metadata": {},
     "outputs": [
      {
       "metadata": {},
       "output_type": "pyout",
       "prompt_number": 327,
       "text": [
        "(4413, 4735)"
       ]
      }
     ],
     "prompt_number": 327
    },
    {
     "cell_type": "markdown",
     "metadata": {},
     "source": [
      "The mean pregnancy lengths are slightly different:"
     ]
    },
    {
     "cell_type": "code",
     "collapsed": false,
     "input": [
      "firsts.prglngth.mean(), others.prglngth.mean()"
     ],
     "language": "python",
     "metadata": {},
     "outputs": [
      {
       "metadata": {},
       "output_type": "pyout",
       "prompt_number": 384,
       "text": [
        "(38.600951733514613, 38.522914466737063)"
       ]
      }
     ],
     "prompt_number": 384
    },
    {
     "cell_type": "markdown",
     "metadata": {},
     "source": [
      "The difference is 0.078 weeks:"
     ]
    },
    {
     "cell_type": "code",
     "collapsed": false,
     "input": [
      "diff = firsts.prglngth.mean() - others.prglngth.mean()\n",
      "diff"
     ],
     "language": "python",
     "metadata": {},
     "outputs": [
      {
       "metadata": {},
       "output_type": "pyout",
       "prompt_number": 386,
       "text": [
        "0.078037266777549519"
       ]
      }
     ],
     "prompt_number": 386
    },
    {
     "cell_type": "markdown",
     "metadata": {},
     "source": [
      "Which is 13 hours.  Note: the best units to report are often not the units you computed."
     ]
    },
    {
     "cell_type": "code",
     "collapsed": false,
     "input": [
      "diff * 7 * 24"
     ],
     "language": "python",
     "metadata": {},
     "outputs": [
      {
       "metadata": {},
       "output_type": "pyout",
       "prompt_number": 387,
       "text": [
        "13.110260818628319"
       ]
      }
     ],
     "prompt_number": 387
    },
    {
     "cell_type": "markdown",
     "metadata": {},
     "source": [
      "Let's see if we can visualize the difference in the histograms:"
     ]
    },
    {
     "cell_type": "code",
     "collapsed": false,
     "input": [
      "first_hist = Hist(firsts.prglngth)\n",
      "other_hist = Hist(others.prglngth)"
     ],
     "language": "python",
     "metadata": {},
     "outputs": [],
     "prompt_number": 333
    },
    {
     "cell_type": "markdown",
     "metadata": {},
     "source": [
      "I used some plotting options to put two bar charts side-by-side:"
     ]
    },
    {
     "cell_type": "code",
     "collapsed": false,
     "input": [
      "def plot_distributions(dist1, dist2):\n",
      "    dist1.plot(width=-0.45, align='edge', color=LILAC, label='firsts')\n",
      "    dist2.plot(width=0.45, align='edge', color=ORANGE, label='others')\n",
      "    plt.xlim(33.5, 43.5)\n",
      "    plt.legend()"
     ],
     "language": "python",
     "metadata": {},
     "outputs": [],
     "prompt_number": 440
    },
    {
     "cell_type": "markdown",
     "metadata": {},
     "source": [
      "Here are the two histograms:"
     ]
    },
    {
     "cell_type": "code",
     "collapsed": false,
     "input": [
      "plot_distributions(first_hist, other_hist)"
     ],
     "language": "python",
     "metadata": {},
     "outputs": [
      {
       "metadata": {},
       "output_type": "display_data",
       "png": "[encoded data removed]",
       "text": [
        "<matplotlib.figure.Figure at 0x7fcad1fb2f50>"
       ]
      }
     ],
     "prompt_number": 441
    },
    {
     "cell_type": "markdown",
     "metadata": {},
     "source": [
      "Remember that the vertical axis is counts.  In this case, we are comparing counts with different totals, which might be misleading.\n",
      "\n",
      "An alternative is to compute a probability mass function (PMF), which divides the counts by the totals, yielding a map from each element to its probability.\n",
      "\n",
      "The probabilities are \"normalized\" to add up to 1.\n"
     ]
    },
    {
     "cell_type": "code",
     "collapsed": false,
     "input": [
      "class Pmf(Hist):\n",
      "    \n",
      "    def normalize(self):\n",
      "        total = sum(self.values())\n",
      "        for element in self:\n",
      "            self[element] /= total\n",
      "        return self\n",
      "    \n",
      "    def plot_cumulative(self, **options):\n",
      "        xs, ps = zip(*sorted(self.iteritems()))\n",
      "        cs = np.cumsum(ps, dtype=np.float)\n",
      "        cs /= cs[-1]\n",
      "        plt.plot(xs, cs, **options)"
     ],
     "language": "python",
     "metadata": {},
     "outputs": [],
     "prompt_number": 442
    },
    {
     "cell_type": "markdown",
     "metadata": {},
     "source": [
      "Now we can compare PMFs fairly."
     ]
    },
    {
     "cell_type": "code",
     "collapsed": false,
     "input": [
      "first_pmf = Pmf(firsts.prglngth).normalize()\n",
      "other_pmf = Pmf(others.prglngth).normalize()"
     ],
     "language": "python",
     "metadata": {},
     "outputs": [],
     "prompt_number": 443
    },
    {
     "cell_type": "markdown",
     "metadata": {},
     "source": [
      "Using PMFs, we see that some of the difference at 39 weeks was an artifact of the different samples sizes:"
     ]
    },
    {
     "cell_type": "code",
     "collapsed": false,
     "input": [
      "plot_distributions(first_pmf, other_pmf)"
     ],
     "language": "python",
     "metadata": {},
     "outputs": [
      {
       "metadata": {},
       "output_type": "display_data",
       "png": "[encoded data removed]",
       "text": [
        "<matplotlib.figure.Figure at 0x7fcad1cdb750>"
       ]
      }
     ],
     "prompt_number": 444
    },
    {
     "cell_type": "markdown",
     "metadata": {},
     "source": [
      "Even so, it is not easy to compare PMFs.  One more alternative is the cumulative mass function (CMF), which shows, for each $t$, the total probability up to and including $t$."
     ]
    },
    {
     "cell_type": "code",
     "collapsed": false,
     "input": [
      "first_pmf.plot_cumulative(linewidth=4, color=LILAC, label='firsts')\n",
      "other_pmf.plot_cumulative(linewidth=4, color=ORANGE, label='others')\n",
      "plt.xlim(23.5, 44.5)\n",
      "plt.legend(loc='upper left')"
     ],
     "language": "python",
     "metadata": {},
     "outputs": [
      {
       "metadata": {},
       "output_type": "pyout",
       "prompt_number": 449,
       "text": [
        "<matplotlib.legend.Legend at 0x7fcad1872990>"
       ]
      },
      {
       "metadata": {},
       "output_type": "display_data",
       "png": "[encoded data removed]",
       "text": [
        "<matplotlib.figure.Figure at 0x7fcad1aeba10>"
       ]
      }
     ],
     "prompt_number": 449
    },
    {
     "cell_type": "markdown",
     "metadata": {},
     "source": [
      "The CDFs are similar up to week 38.  After that, first babies are more likely to be born late."
     ]
    },
    {
     "cell_type": "markdown",
     "metadata": {},
     "source": [
      "Note: don't be afraid of thick lines.  Differences that are only visible with thin lines are unlikely to be real."
     ]
    },
    {
     "cell_type": "markdown",
     "metadata": {},
     "source": [
      "Word Frequencies\n",
      "----------------\n",
      "\n",
      "Next topic: let's look at histograms of words, bigrams and trigrams:"
     ]
    },
    {
     "cell_type": "code",
     "collapsed": false,
     "input": [
      "#FAIRY TALES\n",
      "#By The Brothers Grimm\n",
      "\n",
      "def iterate_words(url='http://www.gutenberg.org/cache/epub/2591/pg2591.txt'):\n",
      "    \"\"\"Read lines from a URL and split them into words.\n",
      "    \"\"\"\n",
      "    for line in urlopen(url):\n",
      "        for word in line.split():\n",
      "            yield word.strip()"
     ],
     "language": "python",
     "metadata": {},
     "outputs": [],
     "prompt_number": 318
    },
    {
     "cell_type": "markdown",
     "metadata": {},
     "source": [
      "`wc` is a histogram of word counts:"
     ]
    },
    {
     "cell_type": "code",
     "collapsed": false,
     "input": [
      "wc = Hist(iterate_words())"
     ],
     "language": "python",
     "metadata": {},
     "outputs": [],
     "prompt_number": 319
    },
    {
     "cell_type": "markdown",
     "metadata": {},
     "source": []
    },
    {
     "cell_type": "code",
     "collapsed": false,
     "input": [
      "wc.most_common(20)"
     ],
     "language": "python",
     "metadata": {},
     "outputs": [
      {
       "metadata": {},
       "output_type": "pyout",
       "prompt_number": 300,
       "text": [
        "[('the', 6507),\n",
        " ('and', 5250),\n",
        " ('to', 2707),\n",
        " ('a', 1932),\n",
        " ('he', 1817),\n",
        " ('of', 1450),\n",
        " ('was', 1337),\n",
        " ('in', 1080),\n",
        " ('she', 1049),\n",
        " ('that', 1021),\n",
        " ('his', 1014),\n",
        " ('you', 941),\n",
        " ('it', 881),\n",
        " ('her', 880),\n",
        " ('had', 827),\n",
        " ('I', 755),\n",
        " ('they', 751),\n",
        " ('for', 721),\n",
        " ('with', 720),\n",
        " ('as', 718)]"
       ]
      }
     ],
     "prompt_number": 300
    },
    {
     "cell_type": "markdown",
     "metadata": {},
     "source": []
    },
    {
     "cell_type": "code",
     "collapsed": false,
     "input": [
      "ranks, counts = wc.ranks()\n",
      "plt.plot(ranks, counts, linewidth=10, color=ORANGE)\n",
      "plt.xlabel('rank')\n",
      "plt.ylabel('count')"
     ],
     "language": "python",
     "metadata": {},
     "outputs": [
      {
       "metadata": {},
       "output_type": "pyout",
       "prompt_number": 453,
       "text": [
        "<matplotlib.text.Text at 0x7fcad14d3110>"
       ]
      },
      {
       "metadata": {},
       "output_type": "display_data",
       "png": "[encoded data removed]",
       "text": [
        "<matplotlib.figure.Figure at 0x7fcad19a6610>"
       ]
      }
     ],
     "prompt_number": 453
    },
    {
     "cell_type": "markdown",
     "metadata": {},
     "source": []
    },
    {
     "cell_type": "code",
     "collapsed": false,
     "input": [
      "ranks, counts = wc.ranks()\n",
      "plt.plot(ranks, counts, linewidth=4, color=ORANGE)\n",
      "plt.xlabel('rank')\n",
      "plt.ylabel('count')\n",
      "plt.xscale('log')\n",
      "plt.yscale('log')"
     ],
     "language": "python",
     "metadata": {},
     "outputs": [
      {
       "metadata": {},
       "output_type": "display_data",
       "png": "[encoded data removed]",
       "text": [
        "<matplotlib.figure.Figure at 0x7fcad17f7110>"
       ]
      }
     ],
     "prompt_number": 452
    },
    {
     "cell_type": "markdown",
     "metadata": {},
     "source": []
    },
    {
     "cell_type": "code",
     "collapsed": false,
     "input": [
      "def pairwise(iterator):\n",
      "    a, b = tee(iterator)\n",
      "    next(b, None)\n",
      "    return izip(a, b)"
     ],
     "language": "python",
     "metadata": {},
     "outputs": [],
     "prompt_number": 303
    },
    {
     "cell_type": "markdown",
     "metadata": {},
     "source": []
    },
    {
     "cell_type": "code",
     "collapsed": false,
     "input": [
      "bigrams = Counter(pairwise(iterate_words()))"
     ],
     "language": "python",
     "metadata": {},
     "outputs": [],
     "prompt_number": 304
    },
    {
     "cell_type": "markdown",
     "metadata": {},
     "source": []
    },
    {
     "cell_type": "code",
     "collapsed": false,
     "input": [
      "bigrams.most_common(20)"
     ],
     "language": "python",
     "metadata": {},
     "outputs": [
      {
       "metadata": {},
       "output_type": "pyout",
       "prompt_number": 305,
       "text": [
        "[(('to', 'the'), 444),\n",
        " (('in', 'the'), 399),\n",
        " (('of', 'the'), 369),\n",
        " (('and', 'the'), 349),\n",
        " (('into', 'the'), 294),\n",
        " (('said', 'the'), 251),\n",
        " (('on', 'the'), 199),\n",
        " (('and', 'when'), 168),\n",
        " (('he', 'was'), 164),\n",
        " (('he', 'had'), 164),\n",
        " (('to', 'be'), 163),\n",
        " (('it', 'was'), 152),\n",
        " (('Then', 'the'), 151),\n",
        " (('I', 'will'), 149),\n",
        " (('that', 'he'), 143),\n",
        " (('at', 'the'), 142),\n",
        " (('came', 'to'), 138),\n",
        " (('and', 'he'), 135),\n",
        " (('she', 'was'), 129),\n",
        " (('all', 'the'), 125)]"
       ]
      }
     ],
     "prompt_number": 305
    },
    {
     "cell_type": "markdown",
     "metadata": {},
     "source": []
    },
    {
     "cell_type": "code",
     "collapsed": false,
     "input": [
      "def triplewise(iterator):\n",
      "    a, b, c = tee(iterator, 3)\n",
      "    next(b)\n",
      "    next(c)\n",
      "    next(c)\n",
      "    return izip(a, b, c)"
     ],
     "language": "python",
     "metadata": {},
     "outputs": [],
     "prompt_number": 306
    },
    {
     "cell_type": "markdown",
     "metadata": {},
     "source": []
    },
    {
     "cell_type": "code",
     "collapsed": false,
     "input": [
      "trigrams = Counter(triplewise(iterate_words()))"
     ],
     "language": "python",
     "metadata": {},
     "outputs": [],
     "prompt_number": 307
    },
    {
     "cell_type": "markdown",
     "metadata": {},
     "source": []
    },
    {
     "cell_type": "code",
     "collapsed": false,
     "input": [
      "trigrams.most_common(20)"
     ],
     "language": "python",
     "metadata": {},
     "outputs": [
      {
       "metadata": {},
       "output_type": "pyout",
       "prompt_number": 308,
       "text": [
        "[(('came', 'to', 'the'), 65),\n",
        " (('and', 'when', 'he'), 50),\n",
        " (('out', 'of', 'the'), 50),\n",
        " (('said', 'to', 'the'), 34),\n",
        " (('he', 'came', 'to'), 33),\n",
        " (('and', 'when', 'she'), 33),\n",
        " (('went', 'into', 'the'), 32),\n",
        " (('went', 'to', 'the'), 31),\n",
        " (('and', 'said', 'to'), 31),\n",
        " (('came', 'to', 'a'), 30),\n",
        " (('one', 'of', 'the'), 30),\n",
        " (('and', 'as', 'he'), 29),\n",
        " (('they', 'came', 'to'), 29),\n",
        " (('he', 'did', 'not'), 28),\n",
        " (('there', 'was', 'a'), 28),\n",
        " (('that', 'he', 'had'), 28),\n",
        " (('and', 'I', 'will'), 27),\n",
        " (('that', 'it', 'was'), 25),\n",
        " (('and', 'at', 'last'), 24),\n",
        " (('and', 'when', 'the'), 24)]"
       ]
      }
     ],
     "prompt_number": 308
    },
    {
     "cell_type": "markdown",
     "metadata": {},
     "source": []
    },
    {
     "cell_type": "code",
     "collapsed": false,
     "input": [
      "d = defaultdict(Pmf)\n",
      "for a, b, c in trigrams:\n",
      "    d[a, b][c] += trigrams[a, b, c]"
     ],
     "language": "python",
     "metadata": {},
     "outputs": [],
     "prompt_number": 309
    },
    {
     "cell_type": "markdown",
     "metadata": {},
     "source": []
    },
    {
     "cell_type": "code",
     "collapsed": false,
     "input": [
      "d['the', 'blood']"
     ],
     "language": "python",
     "metadata": {},
     "outputs": [
      {
       "metadata": {},
       "output_type": "pyout",
       "prompt_number": 310,
       "text": [
        "Pmf({'ran': 2, 'of': 2, 'on': 1, 'streamed': 1, 'came,': 1, 'ran.': 1, 'that': 1, 'fell': 1, 'might': 1})"
       ]
      }
     ],
     "prompt_number": 310
    },
    {
     "cell_type": "markdown",
     "metadata": {},
     "source": []
    },
    {
     "cell_type": "code",
     "collapsed": false,
     "input": [
      "d['into', 'the'].most_common(10)"
     ],
     "language": "python",
     "metadata": {},
     "outputs": [
      {
       "metadata": {},
       "output_type": "pyout",
       "prompt_number": 311,
       "text": [
        "[('forest', 15),\n",
        " ('forest,', 13),\n",
        " ('garden', 9),\n",
        " ('kitchen,', 8),\n",
        " ('cellar', 8),\n",
        " ('room,', 7),\n",
        " ('wide', 7),\n",
        " ('water,', 7),\n",
        " ('wood', 6),\n",
        " ('kitchen', 6)]"
       ]
      }
     ],
     "prompt_number": 311
    },
    {
     "cell_type": "markdown",
     "metadata": {},
     "source": []
    },
    {
     "cell_type": "code",
     "collapsed": false,
     "input": [
      "d['said', 'the'].most_common(10)"
     ],
     "language": "python",
     "metadata": {},
     "outputs": [
      {
       "metadata": {},
       "output_type": "pyout",
       "prompt_number": 312,
       "text": [
        "[('old', 13),\n",
        " ('man,', 12),\n",
        " ('little', 10),\n",
        " ('fisherman,', 8),\n",
        " ('father,', 7),\n",
        " ('ass,', 6),\n",
        " ('tailor,', 5),\n",
        " ('wife,', 5),\n",
        " ('fish;', 5),\n",
        " ('other;', 5)]"
       ]
      }
     ],
     "prompt_number": 312
    },
    {
     "cell_type": "markdown",
     "metadata": {},
     "source": []
    },
    {
     "cell_type": "code",
     "collapsed": false,
     "input": [
      "d['said', 'the'].choice()"
     ],
     "language": "python",
     "metadata": {},
     "outputs": [
      {
       "metadata": {},
       "output_type": "pyout",
       "prompt_number": 313,
       "text": [
        "'cock.'"
       ]
      }
     ],
     "prompt_number": 313
    },
    {
     "cell_type": "markdown",
     "metadata": {},
     "source": []
    },
    {
     "cell_type": "code",
     "collapsed": false,
     "input": [
      "prefix = 'said', 'the'\n",
      "suffix = d[prefix].choice()\n",
      "suffix"
     ],
     "language": "python",
     "metadata": {},
     "outputs": [
      {
       "metadata": {},
       "output_type": "pyout",
       "prompt_number": 314,
       "text": [
        "'man,'"
       ]
      }
     ],
     "prompt_number": 314
    },
    {
     "cell_type": "markdown",
     "metadata": {},
     "source": []
    },
    {
     "cell_type": "code",
     "collapsed": false,
     "input": [
      "prefix = prefix[1], suffix\n",
      "prefix"
     ],
     "language": "python",
     "metadata": {},
     "outputs": [
      {
       "metadata": {},
       "output_type": "pyout",
       "prompt_number": 315,
       "text": [
        "('the', 'man,')"
       ]
      }
     ],
     "prompt_number": 315
    },
    {
     "cell_type": "markdown",
     "metadata": {},
     "source": []
    },
    {
     "cell_type": "code",
     "collapsed": false,
     "input": [
      "for i in range(100):\n",
      "    suffix = d[prefix].choice()\n",
      "    print(suffix, end=' ')\n",
      "    prefix = prefix[1], suffix"
     ],
     "language": "python",
     "metadata": {},
     "outputs": [
      {
       "output_type": "stream",
       "stream": "stdout",
       "text": [
        "'go with me, for you have all his wealth, in the air!' My sister loved me best of all; She laid her kerchief over me, And took my bones that they might roast. The fowls began to slip, and slipped down from the fire, and said, 'Each of you shall pass over upon me.' But he was riding off with it. Away ran Catherine, and they had found on a plate, and sleep there.' And the soldier said nothing about what had become of thee?' But it happened one day when it is so the little girl sprang out, and "
       ]
      }
     ],
     "prompt_number": 316
    },
    {
     "cell_type": "markdown",
     "metadata": {},
     "source": []
    },
    {
     "cell_type": "code",
     "collapsed": false,
     "input": [],
     "language": "python",
     "metadata": {},
     "outputs": [],
     "prompt_number": 316
    }
   ],
   "metadata": {}
  }
 ]
}