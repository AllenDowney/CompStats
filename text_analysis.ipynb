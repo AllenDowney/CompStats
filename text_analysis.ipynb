{
 "cells": [
  {
   "cell_type": "markdown",
   "metadata": {},
   "source": [
    "## Text analysis with Python\n",
    "\n",
    "\n",
    "Copyright 2019 Allen Downey\n",
    "\n",
    "[MIT License](https://opensource.org/licenses/MIT)"
   ]
  },
  {
   "cell_type": "code",
   "execution_count": 1,
   "metadata": {},
   "outputs": [],
   "source": [
    "%matplotlib inline\n",
    "\n",
    "import matplotlib.pyplot as plt"
   ]
  },
  {
   "cell_type": "markdown",
   "metadata": {},
   "source": [
    "Word Frequencies\n",
    "----------------\n",
    "\n",
    "Let's look at frequencies of words, bigrams and trigrams in a text.\n",
    "\n",
    "The following function reads lines from a file or URL and splits them into words:"
   ]
  },
  {
   "cell_type": "code",
   "execution_count": 2,
   "metadata": {},
   "outputs": [],
   "source": [
    "def iterate_words(filename):\n",
    "    \"\"\"Read lines from a file and split them into words.\"\"\"\n",
    "    for line in open(filename):\n",
    "        for word in line.split():\n",
    "            yield word.strip()"
   ]
  },
  {
   "cell_type": "markdown",
   "metadata": {},
   "source": [
    "Here's an example using a book.  `wc` is a Counter of words, that is, a dictionary that maps from each word to the number of times it appears:"
   ]
  },
  {
   "cell_type": "code",
   "execution_count": 3,
   "metadata": {},
   "outputs": [],
   "source": [
    "from collections import Counter"
   ]
  },
  {
   "cell_type": "code",
   "execution_count": 4,
   "metadata": {},
   "outputs": [],
   "source": [
    "# https://archive.org/stream/TheFaultInOurStarsJohnGreen/The+Fault+In+Our+Stars+-+John+Green_djvu.txt\n",
    "\n",
    "filename = 'the_fault_in_our_stars.txt'\n",
    "wc = Counter(iterate_words(filename))"
   ]
  },
  {
   "cell_type": "markdown",
   "metadata": {},
   "source": [
    "Here are the 20 most common words:"
   ]
  },
  {
   "cell_type": "code",
   "execution_count": 5,
   "metadata": {},
   "outputs": [
    {
     "data": {
      "text/plain": [
       "[('I', 2529),\n",
       " ('the', 2451),\n",
       " ('and', 1730),\n",
       " ('to', 1678),\n",
       " ('a', 1453),\n",
       " ('of', 1138),\n",
       " ('was', 801),\n",
       " ('in', 766),\n",
       " ('my', 673),\n",
       " ('that', 635),\n",
       " ('he', 614),\n",
       " ('you', 588),\n",
       " ('said.', 516),\n",
       " ('his', 514),\n",
       " ('it', 442),\n",
       " ('for', 436),\n",
       " ('me', 400),\n",
       " ('but', 375),\n",
       " ('with', 360),\n",
       " ('at', 337)]"
      ]
     },
     "execution_count": 5,
     "metadata": {},
     "output_type": "execute_result"
    }
   ],
   "source": [
    "wc.most_common(20)"
   ]
  },
  {
   "cell_type": "markdown",
   "metadata": {},
   "source": [
    "Word frequencies in natural languages follow a predictable pattern called Zipf's law (which is an instance of Stigler's law, which is also an instance of Stigler's law).\n",
    "\n",
    "We can see the pattern by lining up the words in descending order of frequency and plotting their counts (6507, 5250, 2707) versus ranks (1st, 2nd, 3rd, ...):"
   ]
  },
  {
   "cell_type": "code",
   "execution_count": 6,
   "metadata": {},
   "outputs": [],
   "source": [
    "def counter_ranks(wc):\n",
    "    \"\"\"Returns ranks and counts as lists.\"\"\"\n",
    "    return zip(*enumerate(sorted(wc.values(), reverse=True)))"
   ]
  },
  {
   "cell_type": "code",
   "execution_count": 7,
   "metadata": {},
   "outputs": [
    {
     "data": {
      "image/png": "[encoded data removed]",
      "text/plain": [
       "<Figure size 432x288 with 1 Axes>"
      ]
     },
     "metadata": {
      "needs_background": "light"
     },
     "output_type": "display_data"
    }
   ],
   "source": [
    "ranks, counts = counter_ranks(wc)\n",
    "plt.plot(ranks, counts, linewidth=3)\n",
    "plt.xlabel('Rank')\n",
    "plt.ylabel('Count')\n",
    "plt.title('Word count versus rank, linear scale');"
   ]
  },
  {
   "cell_type": "markdown",
   "metadata": {},
   "source": [
    "Huh.  Maybe that's not so clear after all.  The problem is that the counts drop off very quickly.  If we use the highest count to scale the figure, most of the other counts are indistinguishable from zero.\n",
    "\n",
    "Also, there are more than 10,000 words, but most of them appear only a few times, so we are wasting most of the space in the figure in a regime where nothing is happening.\n",
    "\n",
    "This kind of thing happens a lot.  A common way to deal with it is to compute the log of the quantities or to plot them on a log scale:"
   ]
  },
  {
   "cell_type": "code",
   "execution_count": 8,
   "metadata": {},
   "outputs": [
    {
     "data": {
      "image/png": "[encoded data removed]",
      "text/plain": [
       "<Figure size 432x288 with 1 Axes>"
      ]
     },
     "metadata": {
      "needs_background": "light"
     },
     "output_type": "display_data"
    }
   ],
   "source": [
    "ranks, counts = counter_ranks(wc)\n",
    "plt.plot(ranks, counts, linewidth=4)\n",
    "plt.xlabel('Rank')\n",
    "plt.ylabel('Count')\n",
    "plt.xscale('log')\n",
    "plt.yscale('log')\n",
    "plt.title('Word count versus rank, log-log scale');"
   ]
  },
  {
   "cell_type": "markdown",
   "metadata": {},
   "source": [
    "This (approximately) straight line is characteristic of Zipf's law.\n",
    "\n",
    "n-grams\n",
    "-------\n",
    "\n",
    "On to the next topic: bigrams and trigrams."
   ]
  },
  {
   "cell_type": "code",
   "execution_count": 9,
   "metadata": {},
   "outputs": [],
   "source": [
    "from itertools import tee\n",
    "\n",
    "def pairwise(iterator):\n",
    "    \"\"\"Iterates through a sequence in overlapping pairs.\n",
    "    \n",
    "    If the sequence is 1, 2, 3, the result is (1, 2), (2, 3), (3, 4), etc.\n",
    "    \"\"\"\n",
    "    a, b = tee(iterator)\n",
    "    next(b, None)\n",
    "    return zip(a, b)"
   ]
  },
  {
   "cell_type": "markdown",
   "metadata": {},
   "source": [
    "`bigrams` is the histogram of word pairs:"
   ]
  },
  {
   "cell_type": "code",
   "execution_count": 10,
   "metadata": {},
   "outputs": [],
   "source": [
    "bigrams = Counter(pairwise(iterate_words(filename)))"
   ]
  },
  {
   "cell_type": "markdown",
   "metadata": {},
   "source": [
    "And here are the 20 most common:"
   ]
  },
  {
   "cell_type": "code",
   "execution_count": 11,
   "metadata": {},
   "outputs": [
    {
     "data": {
      "text/plain": [
       "[(('in', 'the'), 258),\n",
       " (('I', 'said.'), 246),\n",
       " (('of', 'the'), 199),\n",
       " (('I', 'was'), 183),\n",
       " (('and', 'I'), 175),\n",
       " (('to', 'the'), 143),\n",
       " (('on', 'the'), 135),\n",
       " (('he', 'said.'), 128),\n",
       " (('and', 'then'), 123),\n",
       " (('for', 'a'), 86),\n",
       " (('but', 'I'), 86),\n",
       " (('in', 'a'), 84),\n",
       " (('to', 'be'), 84),\n",
       " (('that', 'I'), 80),\n",
       " (('want', 'to'), 77),\n",
       " (('at', 'the'), 76),\n",
       " (('it', 'was'), 75),\n",
       " (('I', 'could'), 72),\n",
       " (('Van', 'Houten'), 69),\n",
       " (('I', \"didn't\"), 68)]"
      ]
     },
     "execution_count": 11,
     "metadata": {},
     "output_type": "execute_result"
    }
   ],
   "source": [
    "bigrams.most_common(20)"
   ]
  },
  {
   "cell_type": "markdown",
   "metadata": {},
   "source": [
    "Similarly, we can iterate the trigrams:"
   ]
  },
  {
   "cell_type": "code",
   "execution_count": 12,
   "metadata": {},
   "outputs": [],
   "source": [
    "def triplewise(iterator):\n",
    "    a, b, c = tee(iterator, 3)\n",
    "    next(b)\n",
    "    next(c)\n",
    "    next(c)\n",
    "    return zip(a, b, c)"
   ]
  },
  {
   "cell_type": "markdown",
   "metadata": {},
   "source": [
    "And make a Counter:"
   ]
  },
  {
   "cell_type": "code",
   "execution_count": 13,
   "metadata": {},
   "outputs": [],
   "source": [
    "trigrams = Counter(triplewise(iterate_words(filename)))"
   ]
  },
  {
   "cell_type": "markdown",
   "metadata": {},
   "source": [
    "Here are the 20 most common:"
   ]
  },
  {
   "cell_type": "code",
   "execution_count": 14,
   "metadata": {},
   "outputs": [
    {
     "data": {
      "text/plain": [
       "[(('Peter', 'Van', 'Houten'), 29),\n",
       " (('I', 'said.', '\"I'), 25),\n",
       " (('out', 'of', 'the'), 22),\n",
       " ((\"didn't\", 'want', 'to'), 22),\n",
       " (('he', 'said.', '\"I'), 21),\n",
       " (('I', 'wanted', 'to'), 19),\n",
       " (('.', '.', '.'), 19),\n",
       " (('I', \"didn't\", 'want'), 18),\n",
       " (('I', 'said.', 'I'), 18),\n",
       " (('a', 'lot', 'of'), 17),\n",
       " (('the', 'kind', 'of'), 16),\n",
       " (('\"Yeah,\"', 'I', 'said.'), 16),\n",
       " (('\"Okay,\"', 'I', 'said.'), 15),\n",
       " (('the', 'end', 'of'), 15),\n",
       " (('to', 'go', 'to'), 15),\n",
       " (('the', 'Dutch', 'Tulip'), 15),\n",
       " (('that', 'I', 'was'), 13),\n",
       " (('the', 'middle', 'of'), 13),\n",
       " (('I', 'was', 'a'), 13),\n",
       " (('and', 'I', 'was'), 13)]"
      ]
     },
     "execution_count": 14,
     "metadata": {},
     "output_type": "execute_result"
    }
   ],
   "source": [
    "trigrams.most_common(20)"
   ]
  },
  {
   "cell_type": "markdown",
   "metadata": {},
   "source": [
    "### Markov analysis\n",
    "\n",
    "And now for a little fun.  I'll make a dictionary that maps from each word pair to a Counter of the words that can follow."
   ]
  },
  {
   "cell_type": "code",
   "execution_count": 15,
   "metadata": {},
   "outputs": [],
   "source": [
    "from collections import defaultdict\n",
    "\n",
    "d = defaultdict(Counter)\n",
    "for a, b, c in trigrams:\n",
    "    d[a, b][c] += trigrams[a, b, c]"
   ]
  },
  {
   "cell_type": "markdown",
   "metadata": {},
   "source": [
    "Now we can look up a pair and see what might come next:"
   ]
  },
  {
   "cell_type": "code",
   "execution_count": 16,
   "metadata": {},
   "outputs": [
    {
     "data": {
      "text/plain": [
       "Counter({'quietly.': 4,\n",
       "         'tomorrow,\"': 1,\n",
       "         'again,': 4,\n",
       "         'as': 1,\n",
       "         'finally.': 1,\n",
       "         'nothing.': 2,\n",
       "         'again.': 5,\n",
       "         'Thanks': 1,\n",
       "         'after': 4,\n",
       "         'I': 3,\n",
       "         'of': 1,\n",
       "         'when': 1,\n",
       "         'it.': 2,\n",
       "         'to': 6,\n",
       "         'mostly': 1,\n",
       "         'sure.': 1,\n",
       "         'through': 1,\n",
       "         'for': 1,\n",
       "         'into': 1,\n",
       "         'anything.': 1,\n",
       "         'that': 2,\n",
       "         'out': 1})"
      ]
     },
     "execution_count": 16,
     "metadata": {},
     "output_type": "execute_result"
    }
   ],
   "source": [
    "d['I', 'said']"
   ]
  },
  {
   "cell_type": "markdown",
   "metadata": {},
   "source": [
    "Here are the most common words that follow \"into the\":"
   ]
  },
  {
   "cell_type": "code",
   "execution_count": 17,
   "metadata": {},
   "outputs": [
    {
     "data": {
      "text/plain": [
       "[('backyard', 3),\n",
       " ('canal.', 3),\n",
       " ('center', 2),\n",
       " ('living', 2),\n",
       " ('circular', 1),\n",
       " ('circle', 1),\n",
       " ('triangular', 1),\n",
       " ('movie,', 1),\n",
       " ('ninety-minute', 1),\n",
       " ('soul', 1)]"
      ]
     },
     "execution_count": 17,
     "metadata": {},
     "output_type": "execute_result"
    }
   ],
   "source": [
    "d['into', 'the'].most_common(10)"
   ]
  },
  {
   "cell_type": "markdown",
   "metadata": {},
   "source": [
    "The following function chooses a random word from the suffixes in a Counter:"
   ]
  },
  {
   "cell_type": "code",
   "execution_count": 18,
   "metadata": {},
   "outputs": [],
   "source": [
    "import random\n",
    "\n",
    "def choice(counter):\n",
    "    \"\"\"Chooses a random element.\"\"\"\n",
    "    return random.choice(list(counter.elements()))"
   ]
  },
  {
   "cell_type": "code",
   "execution_count": 19,
   "metadata": {},
   "outputs": [
    {
     "data": {
      "text/plain": [
       "'comfortable'"
      ]
     },
     "execution_count": 19,
     "metadata": {},
     "output_type": "execute_result"
    }
   ],
   "source": [
    "choice(d['into', 'the'])"
   ]
  },
  {
   "cell_type": "markdown",
   "metadata": {},
   "source": [
    "Given a prefix, we can choose a random suffix:"
   ]
  },
  {
   "cell_type": "code",
   "execution_count": 20,
   "metadata": {},
   "outputs": [
    {
     "data": {
      "text/plain": [
       "'sunlight.'"
      ]
     },
     "execution_count": 20,
     "metadata": {},
     "output_type": "execute_result"
    }
   ],
   "source": [
    "prefix = 'into', 'the'\n",
    "suffix = choice(d[prefix])\n",
    "suffix"
   ]
  },
  {
   "cell_type": "markdown",
   "metadata": {},
   "source": [
    "Then we can shift the words and compute the next prefix:"
   ]
  },
  {
   "cell_type": "code",
   "execution_count": 21,
   "metadata": {},
   "outputs": [
    {
     "data": {
      "text/plain": [
       "('the', 'sunlight.')"
      ]
     },
     "execution_count": 21,
     "metadata": {},
     "output_type": "execute_result"
    }
   ],
   "source": [
    "prefix = prefix[1], suffix\n",
    "prefix"
   ]
  },
  {
   "cell_type": "markdown",
   "metadata": {},
   "source": [
    "Repeating this process, we can generate random new text that has the same correlation structure between words as the original:"
   ]
  },
  {
   "cell_type": "code",
   "execution_count": 22,
   "metadata": {},
   "outputs": [
    {
     "name": "stdout",
     "output_type": "stream",
     "text": [
      "He wore sunglasses and clung to his house about noon, after he got pretty rich on that book,\" I said again, and after a moment waiver in his driveway. I followed him down carpeted stairs to a stop. \"Oh, it's there,\" Augustus said. \"I guess?\" I said. \"Such a good and long life filled with huge blue and I nodded, taking the elevator opened, revealing Isaac and I felt excluded from it. \"Deception, \"the voice said. \"One player or two?\" \"Two,\" Isaac said. \"No problem.\" \"Jackie,\" her mother said again, not knowing what you wanted, Mom? For me to arrange "
     ]
    }
   ],
   "source": [
    "for i in range(100):\n",
    "    suffix = choice(d[prefix])\n",
    "    print(suffix, end=' ')\n",
    "    prefix = prefix[1], suffix"
   ]
  },
  {
   "cell_type": "markdown",
   "metadata": {},
   "source": [
    "With a prefix of two words, we typically get text that flirts with sensibility."
   ]
  }
 ],
 "metadata": {
  "kernelspec": {
   "display_name": "Python 3",
   "language": "python",
   "name": "python3"
  },
  "language_info": {
   "codemirror_mode": {
    "name": "ipython",
    "version": 3
   },
   "file_extension": ".py",
   "mimetype": "text/x-python",
   "name": "python",
   "nbconvert_exporter": "python",
   "pygments_lexer": "ipython3",
   "version": "3.7.3"
  }
 },
 "nbformat": 4,
 "nbformat_minor": 1
}
